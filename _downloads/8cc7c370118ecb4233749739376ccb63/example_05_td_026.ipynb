{
  "cells": [
    {
      "cell_type": "markdown",
      "metadata": {},
      "source": [
        "\n# Nonlinear Analysis of a Rubber Boot Seal Model\n\nThis example demonstrates a nonlinear 3D analysis of a rubber boot seal to:\n\n- Create a rigid-flexible contact pair between a rigid shaft and a\n  rubber boot part.\n- Specify ramped effects using the On Gauss Point Detection Method\n  to update contact stiffness at each iteration.\n- Specify contact pairs at the inner and outer surfaces of the rubber boot.\n- Specify non-ramped effects using the Nodal-Projected Normal From Contact\n  Detection Method to update contact stiffness at each iteration.\n"
      ]
    },
    {
      "cell_type": "markdown",
      "metadata": {},
      "source": [
        "## Import necessary libraries\n\n"
      ]
    },
    {
      "cell_type": "code",
      "execution_count": null,
      "metadata": {
        "collapsed": false
      },
      "outputs": [],
      "source": [
        "import os\n\nfrom ansys.mechanical.core import launch_mechanical\nfrom ansys.mechanical.core.examples import download_file\nfrom matplotlib import image as mpimg\nfrom matplotlib import pyplot as plt"
      ]
    },
    {
      "cell_type": "markdown",
      "metadata": {},
      "source": [
        "## Launch mechanical\nLaunch a new Mechanical session in batch, setting the ``cleanup_on_exit``\nargument to ``False``. To close this Mechanical session when finished,\nthis example must call  the ``mechanical.exit()`` method.\n\n"
      ]
    },
    {
      "cell_type": "code",
      "execution_count": null,
      "metadata": {
        "collapsed": false
      },
      "outputs": [],
      "source": [
        "mechanical = launch_mechanical(batch=True, cleanup_on_exit=False)\nprint(mechanical)"
      ]
    },
    {
      "cell_type": "markdown",
      "metadata": {},
      "source": [
        "## Initialize variable for workflow\nSet the ``part_file_path`` variable on the server for later use.\nMake this variable compatible for Windows, Linux, and Docker containers.\n\n"
      ]
    },
    {
      "cell_type": "code",
      "execution_count": null,
      "metadata": {
        "collapsed": false
      },
      "outputs": [],
      "source": [
        "project_directory = mechanical.project_directory\nprint(f\"project directory = {project_directory}\")"
      ]
    },
    {
      "cell_type": "markdown",
      "metadata": {},
      "source": [
        "## Download required geometry file\nDownload the required file. Print the file path for the geometry file.\n\n"
      ]
    },
    {
      "cell_type": "code",
      "execution_count": null,
      "metadata": {
        "collapsed": false
      },
      "outputs": [],
      "source": [
        "geometry_path = download_file(\n    \"example_05_td26_Rubber_Boot_Seal.agdb\", \"pymechanical\", \"00_basic\"\n)\nprint(f\"Downloaded the geometry file to: {geometry_path}\")\n\n# Upload the file to the project directory.\nmechanical.upload(file_name=geometry_path, file_location_destination=project_directory)\n\n# Build the path relative to project directory.\nbase_name = os.path.basename(geometry_path)\ncombined_path = os.path.join(project_directory, base_name)\npart_file_path = combined_path.replace(\"\\\\\", \"\\\\\\\\\")\nmechanical.run_python_script(f\"part_file_path='{part_file_path}'\")"
      ]
    },
    {
      "cell_type": "markdown",
      "metadata": {},
      "source": [
        "## Download required material files\nDownload the required files. Print the file path for the material file.\n\n"
      ]
    },
    {
      "cell_type": "code",
      "execution_count": null,
      "metadata": {
        "collapsed": false
      },
      "outputs": [],
      "source": [
        "mat_path = download_file(\"example_05_Boot_Mat.xml\", \"pymechanical\", \"00_basic\")\nprint(f\"Downloaded the material file to: {mat_path}\")\n\n# Upload the file to the project directory.\nmechanical.upload(file_name=mat_path, file_location_destination=project_directory)\n\n# Build the path relative to project directory.\nbase_name = os.path.basename(mat_path)\ncombined_path = os.path.join(project_directory, base_name)\nmat_part_file_path = combined_path.replace(\"\\\\\", \"\\\\\\\\\")\nmechanical.run_python_script(f\"mat_part_file_path='{mat_part_file_path}'\")\n\n# Verify the path.\nresult = mechanical.run_python_script(\"part_file_path\")\nprint(f\"part_file_path on server: {result}\")"
      ]
    },
    {
      "cell_type": "markdown",
      "metadata": {},
      "source": [
        "## Run the script\nRun the Mechanical script to attach the geometry and set up and solve the\nanalysis.\n\n"
      ]
    },
    {
      "cell_type": "code",
      "execution_count": null,
      "metadata": {
        "collapsed": false
      },
      "outputs": [],
      "source": [
        "output = mechanical.run_python_script(\n    \"\"\"\nimport json\nimport os\n\n# Section 1: Read geometry and material information from the JSON file.\ngeometry_import_group_11 = Model.GeometryImportGroup\ngeometry_import_12 = geometry_import_group_11.AddGeometryImport()\ngeometry_import_12_format = Ansys.Mechanical.DataModel.Enums.GeometryImportPreference. \\\n    Format.Automatic\ngeometry_import_12_preferences = Ansys.ACT.Mechanical.Utilities.GeometryImportPreferences()\ngeometry_import_12_preferences.ProcessNamedSelections = True\ngeometry_import_12_preferences.ProcessCoordinateSystems = True\ngeometry_import_12.Import(part_file_path, geometry_import_12_format,\n                          geometry_import_12_preferences)\n\nmaterials = ExtAPI.DataModel.Project.Model.Materials\nmaterials.Import(mat_part_file_path)\n\n# Section 2: Set up the unit system.\nExtAPI.Application.ActiveUnitSystem = MechanicalUnitSystem.StandardNMM\nExtAPI.Application.ActiveAngleUnit = AngleUnitType.Radian\nGEOM = Model.Geometry\nPRT1 = [x for x in ExtAPI.DataModel.Tree.AllObjects if x.Name == 'Part'][0]\nPRT2 = [x for x in ExtAPI.DataModel.Tree.AllObjects if x.Name == 'Solid'][1]\nCS_GRP = Model.CoordinateSystems\nGCS = CS_GRP.Children[0]\n\nModel.AddStaticStructuralAnalysis()\nSTAT_STRUC = Model.Analyses[0]\nANA_SETTING = STAT_STRUC.Children[0]\nSTAT_STRUC_SOLN = STAT_STRUC.Solution\nSOLN_INFO = STAT_STRUC_SOLN.SolutionInformation\n\n# Section 3: Define named selection and coordinate system.\nNS_GRP = ExtAPI.DataModel.Project.Model.NamedSelections\nTOP_FACE = \\\n    [i for i in NS_GRP.GetChildren[Ansys.ACT.Automation.Mechanical.NamedSelection](True)\n     if i.Name == 'Top_Face'][0]\nBOTTOM_FACE = \\\n    [i for i in NS_GRP.GetChildren[Ansys.ACT.Automation.Mechanical.NamedSelection](True)\n     if i.Name == 'Bottom_Face'][0]\nSYMM_FACES30 = \\\n    [i for i in NS_GRP.GetChildren[Ansys.ACT.Automation.Mechanical.NamedSelection](True)\n     if i.Name == 'Symm_Faces30'][0]\nFACES2 = [i for i in NS_GRP.GetChildren[Ansys.ACT.Automation.Mechanical.NamedSelection](True)\n          if i.Name == 'Faces2'][0]\nCYL_FACES2 = \\\n    [i for i in NS_GRP.GetChildren[Ansys.ACT.Automation.Mechanical.NamedSelection](True)\n     if i.Name == 'Cyl_Faces2'][0]\nRUBBER_BODIES30 = \\\n    [i for i in NS_GRP.GetChildren[Ansys.ACT.Automation.Mechanical.NamedSelection](True)\n     if i.Name == 'Rubber_Bodies30'][0]\nINNER_FACES30 = \\\n    [i for i in NS_GRP.GetChildren[Ansys.ACT.Automation.Mechanical.NamedSelection](True)\n     if i.Name == 'Inner_Faces30'][0]\nOUTER_FACES30 = \\\n    [i for i in NS_GRP.GetChildren[Ansys.ACT.Automation.Mechanical.NamedSelection](True)\n     if i.Name == 'Outer_Faces30'][0]\nSHAFT_FACE = \\\n    [i for i in NS_GRP.GetChildren[Ansys.ACT.Automation.Mechanical.NamedSelection](True)\n     if i.Name == 'Shaft_Face'][0]\nSYMM_FACES15 = \\\n    [i for i in NS_GRP.GetChildren[Ansys.ACT.Automation.Mechanical.NamedSelection](True)\n     if i.Name == 'Symm_Faces15'][0]\n\nLCS1 = CS_GRP.AddCoordinateSystem()\nLCS1.OriginY = Quantity('97[mm]')\n\n# Section 4: Define material.\nPRT1.Material = 'Boot'\nPRT2.StiffnessBehavior = StiffnessBehavior.Rigid\n\n# Section 5: Define connections.\nCONN_GRP = ExtAPI.DataModel.Project.Model.Connections\nCONT_REG1 = CONN_GRP.AddContactRegion()\nCONT_REG1.TargetLocation = SHAFT_FACE\nCONT_REG1.SourceLocation = INNER_FACES30\nCONT_REG1.ContactType = ContactType.Frictional\nCONT_REG1.FrictionCoefficient = 0.2\nCONT_REG1.Behavior = ContactBehavior.Asymmetric\nCONT_REG1.SmallSliding = ContactSmallSlidingType.Off\nCONT_REG1.DetectionMethod = ContactDetectionPoint.OnGaussPoint\nCONT_REG1.UpdateStiffness = UpdateContactStiffness.EachIteration\nCONT_REG1.InterfaceTreatment = ContactInitialEffect.AddOffsetRampedEffects\nCONT_REG1.TargetGeometryCorrection = TargetCorrection.Smoothing\nCONT_REG1.TargetOrientation = TargetOrientation.Cylinder\nCONT_REG1.TargetStartingPoint = GCS\nCONT_REG1.TargetEndingPoint = LCS1\n\nCONTS = CONN_GRP.Children[0]\nCONT_REG2 = CONTS.AddContactRegion()\nCONT_REG2.SourceLocation = INNER_FACES30\nCONT_REG2.TargetLocation = INNER_FACES30\nCONT_REG2.ContactType = ContactType.Frictional\nCONT_REG2.FrictionCoefficient = 0.2\nCONT_REG2.Behavior = ContactBehavior.Asymmetric\nCONT_REG2.SmallSliding = ContactSmallSlidingType.Off\nCONT_REG2.DetectionMethod = ContactDetectionPoint.NodalProjectedNormalFromContact\nCONT_REG2.UpdateStiffness = UpdateContactStiffness.EachIteration\nCONT_REG2.NormalStiffnessValueType = ElementControlsNormalStiffnessType.Factor\nCONT_REG2.NormalStiffnessFactor = 1\n\nCONT_REG3 = CONTS.AddContactRegion()\nCONT_REG3.SourceLocation = OUTER_FACES30\nCONT_REG3.TargetLocation = OUTER_FACES30\nCONT_REG3.ContactType = ContactType.Frictional\nCONT_REG3.FrictionCoefficient = 0.2\nCONT_REG3.Behavior = ContactBehavior.Asymmetric\nCONT_REG3.SmallSliding = ContactSmallSlidingType.Off\nCONT_REG3.DetectionMethod = ContactDetectionPoint.NodalProjectedNormalFromContact\nCONT_REG3.UpdateStiffness = UpdateContactStiffness.EachIteration\nCONT_REG3.NormalStiffnessValueType = ElementControlsNormalStiffnessType.Factor\nCONT_REG3.NormalStiffnessFactor = 1\n\n# Section 6: Define mesh controls.\nMSH = Model.Mesh\nFACE_MSH = MSH.AddFaceMeshing()\nFACE_MSH.Location = SHAFT_FACE\nFACE_MSH.InternalNumberOfDivisions = 1\n\nMSH_SIZE = MSH.AddSizing()\nMSH_SIZE.Location = SYMM_FACES15\nMSH_SIZE.ElementSize = Quantity('2 [mm]')\n\nMSH.ElementOrder = ElementOrder.Linear\nMSH.Resolution = 2\nMSH.GenerateMesh()\n\n# Section 7: Define remote points' rigid behaviors and scope them\n# to the top and bottom faces of rigid shaft.\nRMPT01 = Model.AddRemotePoint()\nRMPT01.Location = BOTTOM_FACE\nRMPT01.Behavior = LoadBehavior.Rigid\n\nRMPT02 = Model.AddRemotePoint()\nRMPT02.Location = TOP_FACE\nRMPT02.Behavior = LoadBehavior.Rigid\n\n# Section 8: Define analysis settings and set up loads and supports.\nANA_SETTING.Activate()\nANA_SETTING.LargeDeflection = True\nANA_SETTING.Stabilization = StabilizationType.Off\n\n#ANA_SETTING.NumberOfSteps = 3\nANA_SETTING.NumberOfSteps = 2\nANA_SETTING.CurrentStepNumber = 1\nANA_SETTING.AutomaticTimeStepping = AutomaticTimeStepping.On\nANA_SETTING.DefineBy = TimeStepDefineByType.Substeps\nANA_SETTING.InitialSubsteps = 5\nANA_SETTING.MinimumSubsteps = 5\nANA_SETTING.MaximumSubsteps = 1000\nANA_SETTING.StoreResultsAt = TimePointsOptions.EquallySpacedPoints\nANA_SETTING.StoreResulsAtValue = 5\n\nANA_SETTING.CurrentStepNumber = 2\nANA_SETTING.AutomaticTimeStepping = AutomaticTimeStepping.On\nANA_SETTING.DefineBy = TimeStepDefineByType.Substeps\nANA_SETTING.InitialSubsteps = 10\nANA_SETTING.MinimumSubsteps = 10\nANA_SETTING.MaximumSubsteps = 1000\nANA_SETTING.StoreResultsAt = TimePointsOptions.EquallySpacedPoints\nANA_SETTING.StoreResulsAtValue = 10\n\nANA_SETTING.CurrentStepNumber = 3\nANA_SETTING.AutomaticTimeStepping = AutomaticTimeStepping.On\nANA_SETTING.DefineBy = TimeStepDefineByType.Substeps\nANA_SETTING.InitialSubsteps = 30\nANA_SETTING.MinimumSubsteps = 30\nANA_SETTING.MaximumSubsteps = 1000\nANA_SETTING.StoreResultsAt = TimePointsOptions.EquallySpacedPoints\nANA_SETTING.StoreResulsAtValue = 20\n\nSOLN_INFO.NewtonRaphsonResiduals = 4\n\nREM_DISP = STAT_STRUC.AddRemoteDisplacement()\nREM_DISP.Location = RMPT01\nREM_DISP.XComponent.Inputs[0].DiscreteValues = [Quantity(\"0 [s]\"), Quantity(\"1 [s]\"),\n                                                Quantity(\"2 [s]\"), Quantity(\"3 [s]\")]\nREM_DISP.XComponent.Output.DiscreteValues = [Quantity(\"0 [mm]\"), Quantity(\"0 [mm]\"),\n                                             Quantity(\"0 [mm]\"), Quantity(\"0 [mm]\")]\nREM_DISP.YComponent.Inputs[0].DiscreteValues = [Quantity(\"0 [s]\"), Quantity(\"1 [s]\"),\n                                                Quantity(\"2 [s]\"), Quantity(\"3 [s]\")]\nREM_DISP.YComponent.Output.DiscreteValues = [Quantity(\"0 [mm]\"), Quantity(\"0 [mm]\"),\n                                             Quantity(\"-10 [mm]\"), Quantity(\"-10 [mm]\")]\nREM_DISP.ZComponent.Inputs[0].DiscreteValues = [Quantity(\"0 [s]\"), Quantity(\"1 [s]\"),\n                                                Quantity(\"2 [s]\"), Quantity(\"3 [s]\")]\nREM_DISP.ZComponent.Output.DiscreteValues = [Quantity(\"0 [mm]\"), Quantity(\"0 [mm]\"),\n                                             Quantity(\"0 [mm]\"), Quantity(\"0 [mm]\")]\n\nREM_DISP.RotationX.Inputs[0].DiscreteValues = [Quantity(\"0 [s]\"), Quantity(\"1 [s]\"),\n                                               Quantity(\"2 [s]\"), Quantity(\"3 [s]\")]\nREM_DISP.RotationX.Output.DiscreteValues = [Quantity(\"0 [rad]\"), Quantity(\"0 [rad]\"),\n                                            Quantity(\"0 [rad]\"), Quantity(\"0 [rad]\")]\nREM_DISP.RotationY.Inputs[0].DiscreteValues = [Quantity(\"0 [s]\"), Quantity(\"1 [s]\"),\n                                               Quantity(\"2 [s]\"), Quantity(\"3 [s]\")]\nREM_DISP.RotationY.Output.DiscreteValues = [Quantity(\"0 [rad]\"), Quantity(\"0 [rad]\"),\n                                            Quantity(\"0 [rad]\"), Quantity(\"0 [rad]\")]\nREM_DISP.RotationZ.Inputs[0].DiscreteValues = [Quantity(\"0 [s]\"), Quantity(\"1 [s]\"),\n                                               Quantity(\"2 [s]\"), Quantity(\"3 [s]\")]\nREM_DISP.RotationZ.Output.DiscreteValues = [Quantity(\"0 [rad]\"), Quantity(\"0 [rad]\"),\n                                            Quantity(\"0 [rad]\"), Quantity(\"0.55 [rad]\")]\n\nFRIC_SUP01 = STAT_STRUC.AddFrictionlessSupport()\nFRIC_SUP01.Location = SYMM_FACES30\nFRIC_SUP01.Name = \"Symmetry_BC\"\nFRIC_SUP02 = STAT_STRUC.AddFrictionlessSupport()\nFRIC_SUP02.Location = FACES2\nFRIC_SUP02.Name = \"Boot_Bottom_BC\"\nFRIC_SUP03 = STAT_STRUC.AddFrictionlessSupport()\nFRIC_SUP03.Location = CYL_FACES2\nFRIC_SUP03.Name = \"Boot_Radial_BC\"\n\n# Section 9: Add total deformation and equivalent stress.\nTOT_DEF = STAT_STRUC.Solution.AddTotalDeformation()\nTOT_DEF.Location = RUBBER_BODIES30\n\nEQV_STRS = STAT_STRUC.Solution.AddEquivalentStress()\nEQV_STRS.Location = RUBBER_BODIES30\n\n# Section 10: Set the number of processors to 6 using DANSYS.\n#testval2 = STAT_STRUC.SolveConfiguration.SolveProcessSettings.MaxNumberOfCores\n#STAT_STRUC.SolveConfiguration.SolveProcessSettings.MaxNumberOfCores = 6\n\n# Section 11: Solve for the normal stiffness value set to 1 for self contacts.\n# between flexible rubber boot\nSTAT_STRUC.Solution.Solve(True)\n\n# Section 12: Set isometric view and zoom to fit.\ncam = Graphics.Camera\ncam.SetSpecificViewOrientation(ViewOrientationType.Iso)\ncam.SetFit()\n\n# Section 13: Store post-processing images.\nmechdir = STAT_STRUC.Children[0].SolverFilesDirectory\nexport_path = os.path.join(mechdir, \"total_deformation.png\")\nTOT_DEF.Activate()\nGraphics.ExportImage(export_path, GraphicsImageExportFormat.PNG)\n\nexport_path2 = os.path.join(mechdir, \"equivalent_stress.png\")\nEQV_STRS.Activate()\nGraphics.ExportImage(export_path2, GraphicsImageExportFormat.PNG)\n\nmy_results_details = {\n    \"Equivalent_Stress\": str(EQV_STRS.Maximum),\n    \"Total_Deformation\": str(TOT_DEF.Maximum),\n}\n\njson.dumps(my_results_details)\n\"\"\"\n)\nprint(output)"
      ]
    },
    {
      "cell_type": "markdown",
      "metadata": {},
      "source": [
        "## Initialize the variable needed for the image directory\nSet the ``image_dir`` variable for later use.\nMake the variable compatible for Windows, Linux, and Docker containers.\n\n"
      ]
    },
    {
      "cell_type": "code",
      "execution_count": null,
      "metadata": {
        "collapsed": false
      },
      "outputs": [],
      "source": [
        "# image_directory_modified = project_directory.replace(\"\\\\\", \"\\\\\\\\\")\nmechanical.run_python_script(f\"image_dir=ExtAPI.DataModel.AnalysisList[0].WorkingDir\")\n\n# Verify the path for image directory.\nresult_image_dir_server = mechanical.run_python_script(f\"image_dir\")\nprint(f\"Images are stored on the server at: {result_image_dir_server}\")"
      ]
    },
    {
      "cell_type": "markdown",
      "metadata": {},
      "source": [
        "## Download the image and plot\nDownload one image file from the server to the current working directory and plot\nusing matplotlib.\n\n"
      ]
    },
    {
      "cell_type": "code",
      "execution_count": null,
      "metadata": {
        "collapsed": false
      },
      "outputs": [],
      "source": [
        "def get_image_path(image_name):\n    return os.path.join(result_image_dir_server, image_name)\n\n\ndef display_image(path):\n    print(f\"Printing {path} using matplotlib\")\n    image1 = mpimg.imread(path)\n    plt.figure(figsize=(15, 15))\n    plt.axis(\"off\")\n    plt.imshow(image1)\n    plt.show()\n\n\nimage_names = [\"total_deformation.png\", \"equivalent_stress.png\"]\nfor image_name in image_names:\n    image_path_server = get_image_path(image_name)\n\n    if image_path_server != \"\":\n        current_working_directory = os.getcwd()\n\n        local_file_path_list = mechanical.download(\n            image_path_server, target_dir=current_working_directory\n        )\n        image_local_path = local_file_path_list[0]\n        print(f\"Local image path : {image_local_path}\")\n\n        display_image(image_local_path)"
      ]
    },
    {
      "cell_type": "markdown",
      "metadata": {},
      "source": [
        "## Download output file from solve and print contents\nDownload the ``solve.out`` file from the server to the current working\ndirectory and print the contents. Remove the ``solve.out`` file.\n\n"
      ]
    },
    {
      "cell_type": "code",
      "execution_count": null,
      "metadata": {
        "collapsed": false
      },
      "outputs": [],
      "source": [
        "def get_solve_out_path(mechanical):\n    \"\"\"Get the solve out path and return.\"\"\"\n    solve_out_path = \"\"\n    for file_path in mechanical.list_files():\n        if file_path.find(\"solve.out\") != -1:\n            solve_out_path = file_path\n            break\n\n    return solve_out_path\n\n\ndef write_file_contents_to_console(path):\n    \"\"\"Write file contents to console.\"\"\"\n    with open(path, \"rt\") as file:\n        for line in file:\n            print(line, end=\"\")\n\n\nsolve_out_path = get_solve_out_path(mechanical)\n\nif solve_out_path != \"\":\n    current_working_directory = os.getcwd()\n\n    mechanical.download(solve_out_path, target_dir=current_working_directory)\n    solve_out_local_path = os.path.join(current_working_directory, \"solve.out\")\n\n    write_file_contents_to_console(solve_out_local_path)\n\n    os.remove(solve_out_local_path)"
      ]
    },
    {
      "cell_type": "markdown",
      "metadata": {},
      "source": [
        "## Close mechanical\nClose the mechanical instance.\n\n"
      ]
    },
    {
      "cell_type": "code",
      "execution_count": null,
      "metadata": {
        "collapsed": false
      },
      "outputs": [],
      "source": [
        "mechanical.exit()"
      ]
    }
  ],
  "metadata": {
    "kernelspec": {
      "display_name": "Python 3",
      "language": "python",
      "name": "python3"
    },
    "language_info": {
      "codemirror_mode": {
        "name": "ipython",
        "version": 3
      },
      "file_extension": ".py",
      "mimetype": "text/x-python",
      "name": "python",
      "nbconvert_exporter": "python",
      "pygments_lexer": "ipython3",
      "version": "3.11.13"
    }
  },
  "nbformat": 4,
  "nbformat_minor": 0
}