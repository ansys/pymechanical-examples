{
  "cells": [
    {
      "cell_type": "markdown",
      "metadata": {},
      "source": [
        "\n# Contact Surface Wear Simulation\n\nUsing a Archard wear model, this example demonstrates contact sliding\nof a hemispherical ring on a flat ring to produce wear.\n\nThe model includes:\n\n- Hemispherical ring with a radius of 30 mm made of copper.\n- Flat ring with an inner radius of 50 mm and an outer radius of 150 mm made of steel.\n\nThe hemispherical ring is in contact with the flat ring at the center\nfrom the axis of rotation at 100 mm and is subjected to a\n1) pressure of 4000 N/mm2 and 2) a rotation with a frequency\nof 100,000 revolutions/sec.\n\nThe application evaluates total deformation and normal stress results,\nin loading direction, prior to and following wear. In addition,\ncontact pressure prior to wear is evaluated.\n"
      ]
    },
    {
      "cell_type": "markdown",
      "metadata": {},
      "source": [
        "## Import necessary libraries\n\n"
      ]
    },
    {
      "cell_type": "code",
      "execution_count": null,
      "metadata": {
        "collapsed": false
      },
      "outputs": [],
      "source": [
        "import os\n\nfrom ansys.mechanical.core import launch_mechanical\nfrom ansys.mechanical.core.examples import download_file\nfrom matplotlib import image as mpimg\nfrom matplotlib import pyplot as plt"
      ]
    },
    {
      "cell_type": "markdown",
      "metadata": {},
      "source": [
        "## Launch mechanical\nLaunch a new Mechanical session in batch, setting the ``cleanup_on_exit``\nargument to ``False``. To close this Mechanical session when finished,\nthis example must call  the ``mechanical.exit()`` method.\n\n"
      ]
    },
    {
      "cell_type": "code",
      "execution_count": null,
      "metadata": {
        "collapsed": false
      },
      "outputs": [],
      "source": [
        "mechanical = launch_mechanical(batch=True, cleanup_on_exit=False)\nprint(mechanical)"
      ]
    },
    {
      "cell_type": "markdown",
      "metadata": {},
      "source": [
        "## Initialize variable for workflow\nSet the ``part_file_path`` variable on the server for later use.\nMake this variable compatible for Windows, Linux, and Docker containers.\n\n"
      ]
    },
    {
      "cell_type": "code",
      "execution_count": null,
      "metadata": {
        "collapsed": false
      },
      "outputs": [],
      "source": [
        "project_directory = mechanical.project_directory\nprint(f\"project directory = {project_directory}\")"
      ]
    },
    {
      "cell_type": "markdown",
      "metadata": {},
      "source": [
        "## Download required geometry file\nDownload the required file. Print the file path for the geometry file.\n\n"
      ]
    },
    {
      "cell_type": "code",
      "execution_count": null,
      "metadata": {
        "collapsed": false
      },
      "outputs": [],
      "source": [
        "geometry_path = download_file(\"example_07_td43_wear.agdb\", \"pymechanical\", \"00_basic\")\nprint(f\"Downloaded the geometry file to: {geometry_path}\")\n\n# Upload the file to the project directory.\nmechanical.upload(file_name=geometry_path, file_location_destination=project_directory)\n\n# Build the path relative to project directory.\nbase_name = os.path.basename(geometry_path)\ncombined_path = os.path.join(project_directory, base_name)\npart_file_path = combined_path.replace(\"\\\\\", \"\\\\\\\\\")\nmechanical.run_python_script(f\"part_file_path='{part_file_path}'\")"
      ]
    },
    {
      "cell_type": "markdown",
      "metadata": {},
      "source": [
        "## Download required material files\nDownload the required files. Print the file path for the material file.\n\n"
      ]
    },
    {
      "cell_type": "code",
      "execution_count": null,
      "metadata": {
        "collapsed": false
      },
      "outputs": [],
      "source": [
        "mat_cop_path = download_file(\"example_07_Mat_Copper.xml\", \"pymechanical\", \"00_basic\")\nprint(f\"Downloaded the material file to: {mat_cop_path}\")\n\n# Upload the file to the project directory.\nmechanical.upload(file_name=mat_cop_path, file_location_destination=project_directory)\n\n# Build the path relative to project directory.\nbase_name = os.path.basename(mat_cop_path)\ncombined_path = os.path.join(project_directory, base_name)\nmat_Copper_file_path = combined_path.replace(\"\\\\\", \"\\\\\\\\\")\nmechanical.run_python_script(f\"mat_Copper_file_path='{mat_Copper_file_path}'\")\n\nmat_st_path = download_file(\"example_07_Mat_Steel.xml\", \"pymechanical\", \"00_basic\")\nprint(f\"Downloaded the material file to: {mat_st_path}\")\n\n# Upload the file to the project directory.\nmechanical.upload(file_name=mat_st_path, file_location_destination=project_directory)\n\n# Build the path relative to project directory.\nbase_name = os.path.basename(mat_st_path)\ncombined_path = os.path.join(project_directory, base_name)\nmat_Steel_file_path = combined_path.replace(\"\\\\\", \"\\\\\\\\\")\nmechanical.run_python_script(f\"mat_Steel_file_path='{mat_Steel_file_path}'\")\n\n# Verify the path.\nresult = mechanical.run_python_script(\"part_file_path\")\nprint(f\"part_file_path on server: {result}\")"
      ]
    },
    {
      "cell_type": "markdown",
      "metadata": {},
      "source": [
        "## Run the script\nRun the Mechanical script to attach the geometry, set up, and solve the\nanalysis.\n\n"
      ]
    },
    {
      "cell_type": "code",
      "execution_count": null,
      "metadata": {
        "collapsed": false
      },
      "outputs": [],
      "source": [
        "output = mechanical.run_python_script(\n    \"\"\"\nimport json\nimport os\nimport context_menu\n\n# Section 1: Read geometry and material information.\ngeometry_import_group_11 = Model.GeometryImportGroup\ngeometry_import_12 = geometry_import_group_11.AddGeometryImport()\ngeometry_import_12_format = Ansys.Mechanical.DataModel.Enums.GeometryImportPreference.\\\n    Format.Automatic\ngeometry_import_12_preferences = Ansys.ACT.Mechanical.Utilities.GeometryImportPreferences()\ngeometry_import_12_preferences.ProcessNamedSelections = True\ngeometry_import_12_preferences.ProcessCoordinateSystems = True\ngeometry_import_12.Import(part_file_path,geometry_import_12_format,geometry_import_12_preferences)\n\nMAT = ExtAPI.DataModel.Project.Model.Materials\nMAT.Import(mat_Copper_file_path)\nMAT.Import(mat_Steel_file_path)\n\n# Section 2: Set up the unit system.\nExtAPI.Application.ActiveUnitSystem = MechanicalUnitSystem.StandardNMM\n\n# Section 3: Store all main tree nodes as variables.\nMODEL = ExtAPI.DataModel.Project.Model\nGEOM = ExtAPI.DataModel.Project.Model.Geometry\nCS_GRP = ExtAPI.DataModel.Project.Model.CoordinateSystems\nCONN_GRP = ExtAPI.DataModel.Project.Model.Connections\nMSH = ExtAPI.DataModel.Project.Model.Mesh\nNS_GRP = ExtAPI.DataModel.Project.Model.NamedSelections\n\nModel.AddStaticStructuralAnalysis()\nSTAT_STRUC = Model.Analyses[0]\nSTAT_STRUC_SOLN = STAT_STRUC.Solution\nSTAT_STRUC_ANA_SETTING = STAT_STRUC.Children[0]\n\n# Section 4: Store name selection.\nCURVE_NS = [x for x in ExtAPI.DataModel.Tree.AllObjects if x.Name == 'curve'][0]\nDIA_NS = [x for x in ExtAPI.DataModel.Tree.AllObjects if x.Name == 'dia'][0]\nVER_EDGE1 = [x for x in ExtAPI.DataModel.Tree.AllObjects if x.Name == 'v1'][0]\nVER_EDGE2 = [x for x in ExtAPI.DataModel.Tree.AllObjects if x.Name == 'v2'][0]\nHOR_EDGE1 = [x for x in ExtAPI.DataModel.Tree.AllObjects if x.Name == 'h1'][0]\nHOR_EDGE2 = [x for x in ExtAPI.DataModel.Tree.AllObjects if x.Name == 'h2'][0]\nALL_BODIES_NS = [x for x in ExtAPI.DataModel.Tree.AllObjects if x.Name == 'all_bodies'][0]\n\n# Section 5: Assign material to bodies and change behavior to axisymmetric.\nGEOM.Model2DBehavior=Model2DBehavior.AxiSymmetric\n\nSURFACE1=GEOM.Children[0].Children[0]\nSURFACE1.Material=\"Steel\"\nSURFACE1.Dimension = ShellBodyDimension.Two_D\n\nSURFACE2=GEOM.Children[1].Children[0]\nSURFACE2.Material=\"Copper\"\nSURFACE2.Dimension = ShellBodyDimension.Two_D\n\n# Section 6: Change contact settings and add a command snippet to use Archard Wear Model.\nCONT_REG = CONN_GRP.AddContactRegion()\nCONT_REG.SourceLocation = NS_GRP.Children[6]\nCONT_REG.TargetLocation = NS_GRP.Children[3]\n#CONT_REG.FlipContactTarget()\nCONT_REG.ContactType=ContactType.Frictionless\nCONT_REG.Behavior=ContactBehavior.Asymmetric\nCONT_REG.ContactFormulation=ContactFormulation.AugmentedLagrange\nCONT_REG.DetectionMethod=ContactDetectionPoint.NodalNormalToTarget\n# Add missing contact keyopt and Archard Wear Model in workbench using command snippet.\nAWM = '''keyo,cid,5,1\nkeyo,cid,10,2\npi=acos(-1)\nslide_velocity=1e5\nUring_offset=100\nkcopper=10e-13*slide_velocity*2*pi*Uring_offset\nTB,WEAR,cid,,,ARCD\nTBFIELD,TIME,0\nTBDATA,1,0,1,1,0,0\nTBFIELD,TIME,1\nTBDATA,1,0,1,1,0,0\nTBFIELD,TIME,1.01\nTBDATA,1,kcopper,1,1,0,0\nTBFIELD,TIME,4\nTBDATA,1,kcopper,1,1,0,0'''\nCMD1=CONT_REG.AddCommandSnippet()\nCMD1.AppendText(AWM)\n\n# Section 7: Insert remote point.\nREM_PT=MODEL.AddRemotePoint()\nREM_PT.Location=DIA_NS\nREM_PT.Behavior=LoadBehavior.Rigid\n\n# Section 8: Generate mesh.\nMSH.ElementOrder=ElementOrder.Linear\nMSH.ElementSize=Quantity('1 [mm]')\n\nEDGE_SIZING1=MSH.AddSizing()\nEDGE_SIZING1.Location=HOR_EDGE1\nEDGE_SIZING1.Type=SizingType.NumberOfDivisions\nEDGE_SIZING1.NumberOfDivisions=70\n\nEDGE_SIZING2=MSH.AddSizing()\nEDGE_SIZING2.Location=HOR_EDGE2\nEDGE_SIZING2.Type=SizingType.NumberOfDivisions\nEDGE_SIZING2.NumberOfDivisions=70\n\nEDGE_SIZING3=MSH.AddSizing()\nEDGE_SIZING3.Location=VER_EDGE1\nEDGE_SIZING3.Type=SizingType.NumberOfDivisions\nEDGE_SIZING3.NumberOfDivisions=35\n\nEDGE_SIZING4=MSH.AddSizing()\nEDGE_SIZING4.Location=VER_EDGE2\nEDGE_SIZING4.Type=SizingType.NumberOfDivisions\nEDGE_SIZING4.NumberOfDivisions=35\n\nEDGE_SIZING5=MSH.AddSizing()\nEDGE_SIZING5.Location=DIA_NS\nEDGE_SIZING5.Type=SizingType.NumberOfDivisions\nEDGE_SIZING5.NumberOfDivisions=40\n\nEDGE_SIZING6=MSH.AddSizing()\nEDGE_SIZING6.Location=CURVE_NS\nEDGE_SIZING6.Type=SizingType.NumberOfDivisions\nEDGE_SIZING6.NumberOfDivisions=60\n\nMSH.GenerateMesh()\n\n# Section 9: Set up analysis settings.\nSTAT_STRUC_ANA_SETTING.NumberOfSteps=2\nSTAT_STRUC_ANA_SETTING.CurrentStepNumber=1\nSTAT_STRUC_ANA_SETTING.AutomaticTimeStepping=AutomaticTimeStepping.On\nSTAT_STRUC_ANA_SETTING.DefineBy=TimeStepDefineByType.Time\nSTAT_STRUC_ANA_SETTING.InitialTimeStep=Quantity(\"0.1 [s]\")\nSTAT_STRUC_ANA_SETTING.MinimumTimeStep=Quantity(\"0.0001 [s]\")\nSTAT_STRUC_ANA_SETTING.MaximumTimeStep=Quantity(\"1 [s]\")\nSTAT_STRUC_ANA_SETTING.CurrentStepNumber=2\nSTAT_STRUC_ANA_SETTING.Activate()\nSTAT_STRUC_ANA_SETTING.StepEndTime=Quantity(\"4 [s]\")\nSTAT_STRUC_ANA_SETTING.AutomaticTimeStepping=AutomaticTimeStepping.On\nSTAT_STRUC_ANA_SETTING.DefineBy=TimeStepDefineByType.Time\nSTAT_STRUC_ANA_SETTING.InitialTimeStep=Quantity(\"0.01 [s]\")\nSTAT_STRUC_ANA_SETTING.MinimumTimeStep=Quantity(\"0.000001 [s]\")\nSTAT_STRUC_ANA_SETTING.MaximumTimeStep=Quantity(\"0.02 [s]\")\n\nSTAT_STRUC_ANA_SETTING.LargeDeflection=True\n\n# Section 10: Insert loading and BC.\nFIX_SUP=STAT_STRUC.AddFixedSupport()\nFIX_SUP.Location=HOR_EDGE1\n\nREM_DISP=STAT_STRUC.AddRemoteDisplacement()\nREM_DISP.Location=REM_PT\nREM_DISP.XComponent.Output.DiscreteValues=[Quantity('0[mm]')]\nREM_DISP.RotationZ.Output.DiscreteValues=[Quantity('0[deg]')]\n\nREM_FRC=STAT_STRUC.AddRemoteForce()\nREM_FRC.Location=REM_PT\nREM_FRC.DefineBy=LoadDefineBy.Components\nREM_FRC.YComponent.Output.DiscreteValues=[Quantity(\"-150796320 [N]\")]\n\n#Nonlinear Adaptivity does not support contact criterion yet hence command snippet used\nNLAD = '''NLADAPTIVE,all,add,contact,wear,0.50\nNLADAPTIVE,all,on,all,all,1,,4\nNLADAPTIVE,all,list,all,all'''\nCMD2=STAT_STRUC.AddCommandSnippet()\nCMD2.AppendText(NLAD)\nCMD2.StepSelectionMode=SequenceSelectionType.All\n\n# Section 11: Insert results.\nTOT_DEF=STAT_STRUC_SOLN.AddTotalDeformation()\n\nNORM_STRS1=STAT_STRUC_SOLN.AddNormalStress()\nNORM_STRS1.NormalOrientation=NormalOrientationType.YAxis\nNORM_STRS1.DisplayTime=Quantity('1 [s]')\nNORM_STRS1.DisplayOption=ResultAveragingType.Unaveraged\n\nNORM_STRS2=STAT_STRUC_SOLN.AddNormalStress()\nNORM_STRS2.NormalOrientation=NormalOrientationType.YAxis\nNORM_STRS2.DisplayTime=Quantity('4 [s]')\nNORM_STRS2.DisplayOption=ResultAveragingType.Unaveraged\n\nCONT_TOOL=STAT_STRUC_SOLN.AddContactTool()\nCONT_TOOL.ScopingMethod=GeometryDefineByType.Geometry\nSEL1=ExtAPI.SelectionManager.AddSelection(ALL_BODIES_NS)\nSEL2=ExtAPI.SelectionManager.CurrentSelection\nCONT_TOOL.Location=SEL2\nExtAPI.SelectionManager.ClearSelection()\nCONT_PRES1=CONT_TOOL.AddPressure()\nCONT_PRES1.DisplayTime=Quantity('1 [s]')\n\nCONT_PRES2=CONT_TOOL.AddPressure()\nCONT_PRES2.DisplayTime=Quantity('4 [s]')\n\n# Section 12: Set the number of processors to 6 using DANSYS.\n#testval2 = STAT_STRUC.SolveConfiguration.SolveProcessSettings.MaxNumberOfCores\n#STAT_STRUC.SolveConfiguration.SolveProcessSettings.MaxNumberOfCores = 6\n\n# Section 13: Solve and validate the results.\nSTAT_STRUC_SOLN.Solve(True)\nSTAT_STRUC_SS=STAT_STRUC_SOLN.Status\n\n# Section 14: Store post-processing images.\n\n# Set front view and zoom to fit.\ncam = Graphics.Camera\ncam.SetSpecificViewOrientation(ViewOrientationType.Front)\ncam.SetFit()\n\nmechdir = STAT_STRUC.Children[0].SolverFilesDirectory\nexport_path = os.path.join(mechdir, \"stress.png\")\nNORM_STRS2.Activate()\nGraphics.ExportImage(export_path, GraphicsImageExportFormat.PNG)\n\nexport_path2 = os.path.join(mechdir, \"contact_pres.png\")\nCONT_PRES2.Activate()\nGraphics.ExportImage(export_path2, GraphicsImageExportFormat.PNG)\n\nmy_results_details = {\n    \"Normal_Stress1\": str(NORM_STRS1.Minimum),\n    \"Normal_Stress2\": str(NORM_STRS2.Minimum),\n    \"Contact_Pressure1\": str(CONT_PRES1.Maximum),\n    \"Contact_Pressure2\": str(CONT_PRES2.Maximum),\n}\n\njson.dumps(my_results_details)\n\"\"\"\n)\nprint(output)"
      ]
    },
    {
      "cell_type": "markdown",
      "metadata": {},
      "source": [
        "## Initialize the variable needed for the image directory\nSet the ``image_dir`` variable for later use.\nMake the variable compatible for Windows, Linux, and Docker containers.\n\n"
      ]
    },
    {
      "cell_type": "code",
      "execution_count": null,
      "metadata": {
        "collapsed": false
      },
      "outputs": [],
      "source": [
        "# image_directory_modified = project_directory.replace(\"\\\\\", \"\\\\\\\\\")\nmechanical.run_python_script(f\"image_dir=ExtAPI.DataModel.AnalysisList[0].WorkingDir\")\n\n\n# Verify the path for image directory.\nresult_image_dir_server = mechanical.run_python_script(f\"image_dir\")\nprint(f\"Images are stored on the server at: {result_image_dir_server}\")"
      ]
    },
    {
      "cell_type": "markdown",
      "metadata": {},
      "source": [
        "## Download the image and plot\nDownload one image file from the server to the current working directory and plot\nusing matplotlib.\n\n"
      ]
    },
    {
      "cell_type": "code",
      "execution_count": null,
      "metadata": {
        "collapsed": false
      },
      "outputs": [],
      "source": [
        "def get_image_path(image_name):\n    return os.path.join(result_image_dir_server, image_name)\n\n\ndef display_image(path):\n    print(f\"Printing {path} using matplotlib\")\n    image1 = mpimg.imread(path)\n    plt.figure(figsize=(15, 15))\n    plt.axis(\"off\")\n    plt.imshow(image1)\n    plt.show()\n\n\nimage_names = [\"stress.png\", \"contact_pres.png\"]\nfor image_name in image_names:\n    image_path_server = get_image_path(image_name)\n\n    if image_path_server != \"\":\n        current_working_directory = os.getcwd()\n\n        local_file_path_list = mechanical.download(\n            image_path_server, target_dir=current_working_directory\n        )\n        image_local_path = local_file_path_list[0]\n        print(f\"Local image path : {image_local_path}\")\n\n        display_image(image_local_path)"
      ]
    },
    {
      "cell_type": "markdown",
      "metadata": {},
      "source": [
        "## Download output file from solve and print contents\nDownload the ``solve.out`` file from the server to the current working\ndirectory and print the contents. Remove the ``solve.out`` file.\n\n"
      ]
    },
    {
      "cell_type": "code",
      "execution_count": null,
      "metadata": {
        "collapsed": false
      },
      "outputs": [],
      "source": [
        "def get_solve_out_path(mechanical):\n    \"\"\"Get the solve out path and return.\"\"\"\n    solve_out_path = \"\"\n    for file_path in mechanical.list_files():\n        if file_path.find(\"solve.out\") != -1:\n            solve_out_path = file_path\n            break\n\n    return solve_out_path\n\n\ndef write_file_contents_to_console(path):\n    \"\"\"Write file contents to console.\"\"\"\n    with open(path, \"rt\") as file:\n        for line in file:\n            print(line, end=\"\")\n\n\nsolve_out_path = get_solve_out_path(mechanical)\n\nif solve_out_path != \"\":\n    current_working_directory = os.getcwd()\n\n    mechanical.download(solve_out_path, target_dir=current_working_directory)\n    solve_out_local_path = os.path.join(current_working_directory, \"solve.out\")\n\n    write_file_contents_to_console(solve_out_local_path)\n\n    os.remove(solve_out_local_path)"
      ]
    },
    {
      "cell_type": "markdown",
      "metadata": {},
      "source": [
        "## Close mechanical\nClose the mechanical instance.\n\n"
      ]
    },
    {
      "cell_type": "code",
      "execution_count": null,
      "metadata": {
        "collapsed": false
      },
      "outputs": [],
      "source": [
        "mechanical.exit()"
      ]
    }
  ],
  "metadata": {
    "kernelspec": {
      "display_name": "Python 3",
      "language": "python",
      "name": "python3"
    },
    "language_info": {
      "codemirror_mode": {
        "name": "ipython",
        "version": 3
      },
      "file_extension": ".py",
      "mimetype": "text/x-python",
      "name": "python",
      "nbconvert_exporter": "python",
      "pygments_lexer": "ipython3",
      "version": "3.11.13"
    }
  },
  "nbformat": 4,
  "nbformat_minor": 0
}