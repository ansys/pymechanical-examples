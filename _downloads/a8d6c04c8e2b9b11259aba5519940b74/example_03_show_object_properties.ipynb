{
  "cells": [
    {
      "cell_type": "markdown",
      "metadata": {},
      "source": [
        "\n# Display properties for an object\n\nUsing supplied files, this example shows how to display the properties\nthat you would see in an object's details view in the Mechanical GUI.\n"
      ]
    },
    {
      "cell_type": "markdown",
      "metadata": {},
      "source": [
        "## Download required files\nDownload the required files. Print the file path for the MECHDAT file.\n\n"
      ]
    },
    {
      "cell_type": "code",
      "execution_count": null,
      "metadata": {
        "collapsed": false
      },
      "outputs": [],
      "source": [
        "import os\n\nfrom ansys.mechanical.core import launch_mechanical\nfrom ansys.mechanical.core.examples import download_file\n\nmechdat_path = download_file(\n    \"example_03_simple_bolt_new.mechdat\", \"pymechanical\", \"00_basic\"\n)\nprint(f\"Downloaded the MECHDAT file to: {mechdat_path}\")"
      ]
    },
    {
      "cell_type": "markdown",
      "metadata": {},
      "source": [
        "## Launch Mechanical\nLaunch a new Mechanical session in batch, setting the ``cleanup_on_exit``\nargument to ``False``. To close this Mechanical session when finished,\nthis example must call  the ``mechanical.exit()`` method.\n\n"
      ]
    },
    {
      "cell_type": "code",
      "execution_count": null,
      "metadata": {
        "collapsed": false
      },
      "outputs": [],
      "source": [
        "mechanical = launch_mechanical(batch=True, cleanup_on_exit=False)\nprint(mechanical)"
      ]
    },
    {
      "cell_type": "markdown",
      "metadata": {},
      "source": [
        "## Initialize the variable needed for this workflow\nSet the path for the ``mechdat_path`` variable for later use.\nMake this variable compatible for Windows, Linux, and Docker containers.\n\n"
      ]
    },
    {
      "cell_type": "code",
      "execution_count": null,
      "metadata": {
        "collapsed": false
      },
      "outputs": [],
      "source": [
        "project_directory = mechanical.project_directory\nprint(f\"project directory = {project_directory}\")\n\n# Upload the file to the project directory.\nmechanical.upload(file_name=mechdat_path, file_location_destination=project_directory)\n\n# Build the path relative to project directory.\nbase_name = os.path.basename(mechdat_path)\ncombined_path = os.path.join(project_directory, base_name)\nmechdat_path_modified = combined_path.replace(\"\\\\\", \"\\\\\\\\\")\nmechanical.run_python_script(f\"mechdat_path='{mechdat_path_modified}'\")\n\n# Verify the path.\nresult = mechanical.run_python_script(f\"mechdat_path\")\nprint(f\"MECHDATA file is stored on the server at: {result}\")"
      ]
    },
    {
      "cell_type": "markdown",
      "metadata": {},
      "source": [
        "## Run the script\nRun the Mechanical script to display the properties and their current values\nfor the analysis object.\n\n"
      ]
    },
    {
      "cell_type": "code",
      "execution_count": null,
      "metadata": {
        "collapsed": false
      },
      "outputs": [],
      "source": [
        "result = mechanical.run_python_script(\n    \"\"\"\nimport json\n\nExtAPI.DataModel.Project.Open(mechdat_path)\n\nanalysisSettings = Model.Analyses[0].AnalysisSettings\nprops = {}\nif hasattr(analysisSettings,'VisibleProperties') != False:\n    for prop in analysisSettings.VisibleProperties:\n        props[prop.Caption] = prop.StringValue\n\njson.dumps(props, indent=1)\n\"\"\"\n)\nprint(f\"AnalysisSettings properties:\\n{result}\")"
      ]
    },
    {
      "cell_type": "markdown",
      "metadata": {},
      "source": [
        "## Clear the data\nClear the data so it isn't saved to the project.\n\n"
      ]
    },
    {
      "cell_type": "code",
      "execution_count": null,
      "metadata": {
        "collapsed": false
      },
      "outputs": [],
      "source": [
        "mechanical.clear()"
      ]
    },
    {
      "cell_type": "markdown",
      "metadata": {},
      "source": [
        "## Close Mechanical\nClose the Mechanical instance.\n\n"
      ]
    },
    {
      "cell_type": "code",
      "execution_count": null,
      "metadata": {
        "collapsed": false
      },
      "outputs": [],
      "source": [
        "mechanical.exit()"
      ]
    }
  ],
  "metadata": {
    "kernelspec": {
      "display_name": "Python 3",
      "language": "python",
      "name": "python3"
    },
    "language_info": {
      "codemirror_mode": {
        "name": "ipython",
        "version": 3
      },
      "file_extension": ".py",
      "mimetype": "text/x-python",
      "name": "python",
      "nbconvert_exporter": "python",
      "pygments_lexer": "ipython3",
      "version": "3.11.13"
    }
  },
  "nbformat": 4,
  "nbformat_minor": 0
}