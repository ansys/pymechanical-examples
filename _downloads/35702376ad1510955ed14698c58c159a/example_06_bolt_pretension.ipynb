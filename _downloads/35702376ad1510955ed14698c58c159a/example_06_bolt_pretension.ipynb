{
  "cells": [
    {
      "cell_type": "markdown",
      "metadata": {},
      "source": [
        "\n# Bolt Pretension\n\nThis example demonstrates how to insert a Static Structural analysis\ninto a new Mechanical session and execute a sequence of\nPython scripting commands that define and solve a bolt-pretension analysis.\nScripts then evaluate the following results: deformation,\nequivalent stresses, contact, and bolt\n"
      ]
    },
    {
      "cell_type": "markdown",
      "metadata": {},
      "source": [
        "## Import necessary libraries\n\n"
      ]
    },
    {
      "cell_type": "code",
      "execution_count": null,
      "metadata": {
        "collapsed": false
      },
      "outputs": [],
      "source": [
        "import os\n\nfrom ansys.mechanical.core import launch_mechanical\nfrom ansys.mechanical.core.examples import download_file\nfrom matplotlib import image as mpimg\nfrom matplotlib import pyplot as plt"
      ]
    },
    {
      "cell_type": "markdown",
      "metadata": {},
      "source": [
        "## Launch mechanical\nLaunch a new Mechanical session in batch, setting the ``cleanup_on_exit``\nargument to ``False``. To close this Mechanical session when finished,\nthis example must call  the ``mechanical.exit()`` method.\n\n"
      ]
    },
    {
      "cell_type": "code",
      "execution_count": null,
      "metadata": {
        "collapsed": false
      },
      "outputs": [],
      "source": [
        "mechanical = launch_mechanical(batch=True, cleanup_on_exit=False)\nprint(mechanical)"
      ]
    },
    {
      "cell_type": "markdown",
      "metadata": {},
      "source": [
        "## Initialize variable for workflow\nSet the ``part_file_path`` variable on the server for later use.\nMake this variable compatible for Windows, Linux, and Docker containers.\n\n"
      ]
    },
    {
      "cell_type": "code",
      "execution_count": null,
      "metadata": {
        "collapsed": false
      },
      "outputs": [],
      "source": [
        "project_directory = mechanical.project_directory\nprint(f\"project directory = {project_directory}\")"
      ]
    },
    {
      "cell_type": "markdown",
      "metadata": {},
      "source": [
        "## Download required geometry file\nDownload the required file. Print the file path for the geometry file.\n\n"
      ]
    },
    {
      "cell_type": "code",
      "execution_count": null,
      "metadata": {
        "collapsed": false
      },
      "outputs": [],
      "source": [
        "geometry_path = download_file(\n    \"example_06_bolt_pret_geom.agdb\", \"pymechanical\", \"00_basic\"\n)\nprint(f\"Downloaded the geometry file to: {geometry_path}\")"
      ]
    },
    {
      "cell_type": "markdown",
      "metadata": {},
      "source": [
        "Upload the file to the project directory\n\n"
      ]
    },
    {
      "cell_type": "code",
      "execution_count": null,
      "metadata": {
        "collapsed": false
      },
      "outputs": [],
      "source": [
        "mechanical.upload(file_name=geometry_path, file_location_destination=project_directory)"
      ]
    },
    {
      "cell_type": "markdown",
      "metadata": {},
      "source": [
        "Build the path relative to project directory and verify\n\n"
      ]
    },
    {
      "cell_type": "code",
      "execution_count": null,
      "metadata": {
        "collapsed": false
      },
      "outputs": [],
      "source": [
        "base_name = os.path.basename(geometry_path)\ncombined_path = os.path.join(project_directory, base_name)\npart_file_path = combined_path.replace(\"\\\\\", \"\\\\\\\\\")\nmechanical.run_python_script(f\"part_file_path='{part_file_path}'\")\nresult = mechanical.run_python_script(\"part_file_path\")\nprint(f\"Geometry file on server: {result}\")"
      ]
    },
    {
      "cell_type": "markdown",
      "metadata": {},
      "source": [
        "## Download required material file\nDownload the required file. Print the file path for the material file\n\n"
      ]
    },
    {
      "cell_type": "code",
      "execution_count": null,
      "metadata": {
        "collapsed": false
      },
      "outputs": [],
      "source": [
        "mat_cop_path = download_file(\"example_06_Mat_Copper.xml\", \"pymechanical\", \"00_basic\")\nprint(f\"Downloaded the material file to: {mat_cop_path}\")\nmat_st_path = download_file(\"example_06_Mat_Steel.xml\", \"pymechanical\", \"00_basic\")\nprint(f\"Downloaded the material file to: {mat_st_path}\")"
      ]
    },
    {
      "cell_type": "markdown",
      "metadata": {},
      "source": [
        "Upload the file to the project directory\n\n"
      ]
    },
    {
      "cell_type": "code",
      "execution_count": null,
      "metadata": {
        "collapsed": false
      },
      "outputs": [],
      "source": [
        "mechanical.upload(file_name=mat_cop_path, file_location_destination=project_directory)\nmechanical.upload(file_name=mat_st_path, file_location_destination=project_directory)"
      ]
    },
    {
      "cell_type": "markdown",
      "metadata": {},
      "source": [
        "Build the path relative to project directory and verify\n\n"
      ]
    },
    {
      "cell_type": "code",
      "execution_count": null,
      "metadata": {
        "collapsed": false
      },
      "outputs": [],
      "source": [
        "base_name = os.path.basename(mat_cop_path)\ncombined_path = os.path.join(project_directory, base_name)\nmat_Copper_file_path = combined_path.replace(\"\\\\\", \"\\\\\\\\\")\nmechanical.run_python_script(f\"mat_Copper_file_path='{mat_Copper_file_path}'\")\n\nbase_name = os.path.basename(mat_st_path)\ncombined_path = os.path.join(project_directory, base_name)\nmat_Steel_file_path = combined_path.replace(\"\\\\\", \"\\\\\\\\\")\nmechanical.run_python_script(f\"mat_Steel_file_path='{mat_Steel_file_path}'\")\n\nresult = mechanical.run_python_script(\"mat_Copper_file_path\")\nprint(f\"mat_Copper_file_path on server: {result}\")\nresult = mechanical.run_python_script(\"mat_Steel_file_path\")\nprint(f\"mat_Steel_file_path on server: {result}\")"
      ]
    },
    {
      "cell_type": "markdown",
      "metadata": {},
      "source": [
        "## Run the script\nRun the Mechanical script to attach the geometry and set up and solve the\nanalysis\n\n"
      ]
    },
    {
      "cell_type": "code",
      "execution_count": null,
      "metadata": {
        "collapsed": false
      },
      "outputs": [],
      "source": [
        "output = mechanical.run_python_script(\n    \"\"\"\nimport json\nimport os\n\n# Read geometry and material information.\ngeometry_import_group = Model.GeometryImportGroup\ngeometry_import = geometry_import_group.AddGeometryImport()\ngeometry_import_format = Ansys.Mechanical.DataModel.Enums.GeometryImportPreference.\\\n    Format.Automatic\ngeometry_import_preferences = Ansys.ACT.Mechanical.Utilities.GeometryImportPreferences()\ngeometry_import_preferences.ProcessNamedSelections = True\ngeometry_import_preferences.ProcessCoordinateSystems = True\ngeometry_import.Import(part_file_path,geometry_import_format,geometry_import_preferences)\n\n# Import materials.\nMAT = ExtAPI.DataModel.Project.Model.Materials\nMAT.Import(mat_Copper_file_path)\nMAT.Import(mat_Steel_file_path)\n\nModel.AddStaticStructuralAnalysis()\nSTAT_STRUC = Model.Analyses[0]\nSTAT_STRUC_SOLN = STAT_STRUC.Solution\nSTAT_STRUC_ANA_SETTING = STAT_STRUC.Children[0]\n\n# Set up the unit system.\nExtAPI.Application.ActiveUnitSystem = MechanicalUnitSystem.StandardNMM\n\n# Store all main tree nodes as variables.\nMODEL = ExtAPI.DataModel.Project.Model\nGEOM = ExtAPI.DataModel.Project.Model.Geometry\nCONN_GRP = ExtAPI.DataModel.Project.Model.Connections\nCS_GRP = ExtAPI.DataModel.Project.Model.CoordinateSystems\nMSH = ExtAPI.DataModel.Project.Model.Mesh\nNS_GRP = ExtAPI.DataModel.Project.Model.NamedSelections\n\n# Store name selection.\nblock3_block2_cont_NS = [x for x in ExtAPI.DataModel.Tree.AllObjects\nif x.Name == 'block3_block2_cont'][0]\nblock3_block2_targ_NS = [x for x in ExtAPI.DataModel.Tree.AllObjects\nif x.Name == 'block3_block2_targ'][0]\nshank_block3_targ_NS = [x for x in ExtAPI.DataModel.Tree.AllObjects\nif x.Name == 'shank_block3_targ'][0]\nshank_block3_cont_NS = [x for x in ExtAPI.DataModel.Tree.AllObjects\nif x.Name == 'shank_block3_cont'][0]\nblock1_washer_cont_NS = [x for x in ExtAPI.DataModel.Tree.AllObjects\nif x.Name == 'block1_washer_cont'][0]\nblock1_washer_targ_NS = [x for x in ExtAPI.DataModel.Tree.AllObjects\nif x.Name == 'block1_washer_targ'][0]\nwasher_bolt_cont_NS = [x for x in ExtAPI.DataModel.Tree.AllObjects\nif x.Name == 'washer_bolt_cont'][0]\nwasher_bolt_targ_NS = [x for x in ExtAPI.DataModel.Tree.AllObjects\nif x.Name == 'washer_bolt_targ'][0]\nshank_bolt_targ_NS = [x for x in ExtAPI.DataModel.Tree.AllObjects\nif x.Name == 'shank_bolt_targ'][0]\nshank_bolt_cont_NS = [x for x in ExtAPI.DataModel.Tree.AllObjects\nif x.Name == 'shank_bolt_cont'][0]\nblock2_block1_cont_NS = [x for x in ExtAPI.DataModel.Tree.AllObjects\nif x.Name == 'block2_block1_cont'][0]\nblock2_block1_targ_NS = [x for x in ExtAPI.DataModel.Tree.AllObjects\nif x.Name == 'block2_block1_targ'][0]\nall_bodies = [x for x in ExtAPI.DataModel.Tree.AllObjects\nif x.Name == 'all_bodies'][0]\nbodies_5 = [x for x in ExtAPI.DataModel.Tree.AllObjects\nif x.Name == 'bodies_5'][0]\nshank = [x for x in ExtAPI.DataModel.Tree.AllObjects\nif x.Name == 'shank'][0]\nshank_face = [x for x in ExtAPI.DataModel.Tree.AllObjects\nif x.Name == 'shank_face'][0]\nshank_face2 = [x for x in ExtAPI.DataModel.Tree.AllObjects\nif x.Name == 'shank_face2'][0]\nbottom_surface = [x for x in ExtAPI.DataModel.Tree.AllObjects\nif x.Name == 'bottom_surface'][0]\nblock2_surface = [x for x in ExtAPI.DataModel.Tree.AllObjects\nif x.Name == 'block2_surface'][0]\nshank_surface = [x for x in ExtAPI.DataModel.Tree.AllObjects\nif x.Name == 'shank_surface'][0]\n\n# Assign material to bodies.\nSURFACE1=GEOM.Children[0].Children[0]\nSURFACE1.Material=\"Steel\"\n\nSURFACE2=GEOM.Children[1].Children[0]\nSURFACE2.Material=\"Copper\"\n\nSURFACE3=GEOM.Children[2].Children[0]\nSURFACE3.Material=\"Copper\"\n\nSURFACE4=GEOM.Children[3].Children[0]\nSURFACE4.Material=\"Steel\"\n\nSURFACE5=GEOM.Children[4].Children[0]\nSURFACE5.Material=\"Steel\"\n\nSURFACE6=GEOM.Children[5].Children[0]\nSURFACE6.Material=\"Steel\"\n\n# Define coordinate system.\ncoordinate_systems_17 = Model.CoordinateSystems\ncoordinate_system_93 = coordinate_systems_17.AddCoordinateSystem()\ncoordinate_system_93.OriginDefineBy = CoordinateSystemAlignmentType.Fixed\ncoordinate_system_93.OriginX = Quantity(-195, \"mm\")\ncoordinate_system_93.OriginY = Quantity(100, \"mm\")\ncoordinate_system_93.OriginZ = Quantity(50, \"mm\")\ncoordinate_system_93.PrimaryAxis = CoordinateSystemAxisType.PositiveZAxis\n\n# Change contact settings and add a command snippet to use the Archard Wear Model.\nconnections =  ExtAPI.DataModel.Project.Model.Connections\n\n# Delete existing contacts.\nfor connection in connections.Children:\n    if connection.DataModelObjectCategory==DataModelObjectCategory.ConnectionGroup:\n        connection.Delete()\n\nCONT_REG1 = CONN_GRP.AddContactRegion()\nCONT_REG1.SourceLocation = NS_GRP.Children[0]\nCONT_REG1.TargetLocation = NS_GRP.Children[1]\nCONT_REG1.ContactType=ContactType.Frictional\nCONT_REG1.FrictionCoefficient = 0.2\nCONT_REG1.SmallSliding = ContactSmallSlidingType.Off\nCONT_REG1.UpdateStiffness = UpdateContactStiffness.Never\nCMD1=CONT_REG1.AddCommandSnippet()\n\n# Add missing contact keyopt and Archard Wear Model in workbench using a command snippet.\nAWM = '''keyopt,cid,9,5\nrmodif,cid,10,0.00\nrmodif,cid,23,0.001'''\nCMD1.AppendText(AWM)\n\nCONTS = CONN_GRP.Children[0]\nCONT_REG2 = CONTS.AddContactRegion()\nCONT_REG2.SourceLocation = NS_GRP.Children[3]\nCONT_REG2.TargetLocation = NS_GRP.Children[2]\nCONT_REG2.ContactType=ContactType.Bonded\nCONT_REG2.ContactFormulation = ContactFormulation.MPC\n\nCONT_REG3 = CONTS.AddContactRegion()\nCONT_REG3.SourceLocation = NS_GRP.Children[4]\nCONT_REG3.TargetLocation = NS_GRP.Children[5]\nCONT_REG3.ContactType=ContactType.Frictional\nCONT_REG3.FrictionCoefficient = 0.2\nCONT_REG3.SmallSliding = ContactSmallSlidingType.Off\nCONT_REG3.UpdateStiffness = UpdateContactStiffness.Never\nCMD3=CONT_REG3.AddCommandSnippet()\n\n# Add missing contact keyopt and Archard Wear Model in workbench using a command snippet.\nAWM3 = '''keyopt,cid,9,5\nrmodif,cid,10,0.00\nrmodif,cid,23,0.001'''\nCMD3.AppendText(AWM3)\n\nCONT_REG4 = CONTS.AddContactRegion()\nCONT_REG4.SourceLocation = NS_GRP.Children[6]\nCONT_REG4.TargetLocation = NS_GRP.Children[7]\nCONT_REG4.ContactType=ContactType.Bonded\nCONT_REG4.ContactFormulation = ContactFormulation.MPC\n\nCONT_REG5 = CONTS.AddContactRegion()\nCONT_REG5.SourceLocation = NS_GRP.Children[9]\nCONT_REG5.TargetLocation = NS_GRP.Children[8]\nCONT_REG5.ContactType=ContactType.Bonded\nCONT_REG5.ContactFormulation = ContactFormulation.MPC\n\nCONT_REG6 = CONTS.AddContactRegion()\nCONT_REG6.SourceLocation = NS_GRP.Children[10]\nCONT_REG6.TargetLocation = NS_GRP.Children[11]\nCONT_REG6.ContactType=ContactType.Frictional\nCONT_REG6.FrictionCoefficient = 0.2\nCONT_REG6.SmallSliding = ContactSmallSlidingType.Off\nCONT_REG6.UpdateStiffness = UpdateContactStiffness.Never\nCMD6=CONT_REG6.AddCommandSnippet()\n# Add missing contact keyopt and Archard Wear Model in workbench using a command snippet.\nAWM6 = '''keyopt,cid,9,5\nrmodif,cid,10,0.00\nrmodif,cid,23,0.001'''\nCMD6.AppendText(AWM6)\n\n# Add contact tool.\n#CONT_TOOL = CONN_GRP.AddContactTool()\n#CONT_TOOL.AddPenetration()\n#CONT_TOOL.AddStatus()\n#CONT_TOOL.GenerateInitialContactResults()\n\n# Generate mesh.\n\nHex_Method = MSH.AddAutomaticMethod()\nHex_Method.Location = all_bodies\nHex_Method.Method = MethodType.HexDominant\n\nBODY_SIZING1=MSH.AddSizing()\nBODY_SIZING1.Location=bodies_5\nBODY_SIZING1.ElementSize = Quantity(15, \"mm\")\n\nBODY_SIZING2=MSH.AddSizing()\nBODY_SIZING2.Location=shank\nBODY_SIZING2.ElementSize = Quantity(7, \"mm\")\n\nFace_Meshing = MSH.AddFaceMeshing()\nFace_Meshing.Location = shank_face\nFace_Meshing.MappedMesh = False\n\nSweep_Method = MSH.AddAutomaticMethod()\nSweep_Method.Location = shank\nSweep_Method.Method = MethodType.Sweep\nSweep_Method.SourceTargetSelection = 2\nSweep_Method.SourceLocation = shank_face\nSweep_Method.TargetLocation = shank_face2\n\nMSH.GenerateMesh()\n\n# Set up analysis settings.\nSTAT_STRUC_ANA_SETTING.NumberOfSteps = 4\nstep_index_list = [1]\nwith Transaction():\n    for step_index in step_index_list:\n        STAT_STRUC_ANA_SETTING.SetAutomaticTimeStepping(step_index, AutomaticTimeStepping.Off)\nSTAT_STRUC_ANA_SETTING.Activate()\nstep_index_list = [1]\nwith Transaction():\n    for step_index in step_index_list:\n        STAT_STRUC_ANA_SETTING.SetNumberOfSubSteps(step_index, 2)\nSTAT_STRUC_ANA_SETTING.Activate()\nSTAT_STRUC_ANA_SETTING.SolverType = SolverType.Direct\nSTAT_STRUC_ANA_SETTING.SolverPivotChecking = SolverPivotChecking.Off\n\n\n# Insert loading and BC.\nFIX_SUP=STAT_STRUC.AddFixedSupport()\nFIX_SUP.Location=block2_surface\n\nTabular_Force = STAT_STRUC.AddForce()\nTabular_Force.Location = bottom_surface\nTabular_Force.DefineBy = LoadDefineBy.Components\nTabular_Force.XComponent.Inputs[0].DiscreteValues = [Quantity('0[s]'),Quantity('1[s]'), \\\n    Quantity('2[s]'),Quantity('3[s]'),Quantity('4[s]')]\nTabular_Force.XComponent.Output.DiscreteValues = [Quantity('0[N]'),Quantity('0[N]'), \\\n    Quantity('5.e+005[N]'),Quantity('0[N]'),Quantity('-5.e+005[N]')]\n\nBolt_Pretension = STAT_STRUC.AddBoltPretension()\nBolt_Pretension.Location = shank_surface\nBolt_Pretension.Preload.Inputs[0].DiscreteValues = [Quantity('1[s]'),Quantity('2[s]'), \\\n    Quantity('3[s]'),Quantity('4[s]')]\nBolt_Pretension.Preload.Output.DiscreteValues = [Quantity('6.1363e+005[N]'), \\\n    Quantity('0 [N]'),Quantity('0 [N]'),Quantity('0[N]')]\nBolt_Pretension.SetDefineBy(2,BoltLoadDefineBy.Lock)\nBolt_Pretension.SetDefineBy(3,BoltLoadDefineBy.Lock)\nBolt_Pretension.SetDefineBy(4,BoltLoadDefineBy.Lock)\n\n# Insert results.\nPost_Contact_Tool = STAT_STRUC_SOLN.AddContactTool()\nPost_Contact_Tool.ScopingMethod = GeometryDefineByType.Worksheet\n\nBolt_Tool = STAT_STRUC_SOLN.AddBoltTool()\nBolt_Working_Load = Bolt_Tool.AddWorkingLoad()\n\nTotal_Deformation = STAT_STRUC_SOLN.AddTotalDeformation()\nEquivalent_stress_1 = STAT_STRUC_SOLN.AddEquivalentStress()\nEquivalent_stress_2 = STAT_STRUC_SOLN.AddEquivalentStress()\nEquivalent_stress_2.Location = shank\nForce_Reaction_1 = STAT_STRUC_SOLN.AddForceReaction()\nForce_Reaction_1.BoundaryConditionSelection = FIX_SUP\nMoment_Reaction_2 = STAT_STRUC_SOLN.AddMomentReaction()\nMoment_Reaction_2.BoundaryConditionSelection = FIX_SUP\n\n# Set number of processors to 6 using DANSYS. (Optional)\n# Num_Cores = STAT_STRUC.SolveConfiguration.SolveProcessSettings.MaxNumberOfCores\n# STAT_STRUC.SolveConfiguration.SolveProcessSettings.MaxNumberOfCores = 6\n\n# Solve and validate the results.\nSTAT_STRUC_SOLN.Solve(True)\nSTAT_STRUC_SS=STAT_STRUC_SOLN.Status\n\n# Set the isometric view and zoom to fit.\ncam = Graphics.Camera\ncam.SetSpecificViewOrientation(ViewOrientationType.Iso)\ncam.SetFit()\n\nmechdir = STAT_STRUC.Children[0].SolverFilesDirectory\nexport_path = os.path.join(mechdir, \"contact_status.png\")\nPost_Contact_Tool.Children[0].Activate()\nGraphics.ExportImage(export_path, GraphicsImageExportFormat.PNG)\n\nmy_results_details = {\n    \"Total_Deformation\": str(Total_Deformation.Maximum),\n    \"Equivalent_Stress1\": str(Equivalent_stress_1.Maximum),\n    \"Equivalent_Stress2\": str(Equivalent_stress_2.Maximum),\n}\n\njson.dumps(my_results_details)\n\"\"\"\n)\nprint(output)"
      ]
    },
    {
      "cell_type": "markdown",
      "metadata": {},
      "source": [
        "## Initialize the variable needed for the image directory\nSet the ``image_dir`` variable for later use.\nMake the variable compatible for Windows, Linux, and Docker containers.\n\n"
      ]
    },
    {
      "cell_type": "code",
      "execution_count": null,
      "metadata": {
        "collapsed": false
      },
      "outputs": [],
      "source": [
        "# image_directory_modified = project_directory.replace(\"\\\\\", \"\\\\\\\\\")\nmechanical.run_python_script(f\"image_dir=ExtAPI.DataModel.AnalysisList[0].WorkingDir\")\n\n\n# Verify the path for image directory.\nresult_image_dir_server = mechanical.run_python_script(f\"image_dir\")\nprint(f\"Images are stored on the server at: {result_image_dir_server}\")"
      ]
    },
    {
      "cell_type": "markdown",
      "metadata": {},
      "source": [
        "## Download the image and plot\nDownload one image file from the server to the current working directory and plot\nusing matplotlib.\n\n"
      ]
    },
    {
      "cell_type": "code",
      "execution_count": null,
      "metadata": {
        "collapsed": false
      },
      "outputs": [],
      "source": [
        "def get_image_path(image_name):\n    return os.path.join(result_image_dir_server, image_name)\n\n\ndef display_image(path):\n    print(f\"Printing {path} using matplotlib\")\n    image1 = mpimg.imread(path)\n    plt.figure(figsize=(15, 15))\n    plt.axis(\"off\")\n    plt.imshow(image1)\n    plt.show()\n\n\nimage_name = \"contact_status.png\"\nimage_path_server = get_image_path(image_name)\n\nif image_path_server != \"\":\n    current_working_directory = os.getcwd()\n\n    local_file_path_list = mechanical.download(\n        image_path_server, target_dir=current_working_directory\n    )\n    image_local_path = local_file_path_list[0]\n    print(f\"Local image path : {image_local_path}\")\n\n    display_image(image_local_path)"
      ]
    },
    {
      "cell_type": "markdown",
      "metadata": {},
      "source": [
        "## Download output file from solve and print contents\nDownload the ``solve.out`` file from the server to the current working\ndirectory and print the contents. Remove the ``solve.out`` file.\n\n"
      ]
    },
    {
      "cell_type": "code",
      "execution_count": null,
      "metadata": {
        "collapsed": false
      },
      "outputs": [],
      "source": [
        "def get_solve_out_path(mechanical):\n    \"\"\"Get the solve out path and return.\"\"\"\n    solve_out_path = \"\"\n    for file_path in mechanical.list_files():\n        if file_path.find(\"solve.out\") != -1:\n            solve_out_path = file_path\n            break\n\n    return solve_out_path\n\n\ndef write_file_contents_to_console(path):\n    \"\"\"Write file contents to console.\"\"\"\n    with open(path, \"rt\") as file:\n        for line in file:\n            print(line, end=\"\")\n\n\nsolve_out_path = get_solve_out_path(mechanical)\n\nif solve_out_path != \"\":\n    current_working_directory = os.getcwd()\n\n    mechanical.download(solve_out_path, target_dir=current_working_directory)\n    solve_out_local_path = os.path.join(current_working_directory, \"solve.out\")\n\n    write_file_contents_to_console(solve_out_local_path)\n\n    os.remove(solve_out_local_path)"
      ]
    },
    {
      "cell_type": "markdown",
      "metadata": {},
      "source": [
        "## Close mechanical\nClose the mechanical instance.\n\n"
      ]
    },
    {
      "cell_type": "code",
      "execution_count": null,
      "metadata": {
        "collapsed": false
      },
      "outputs": [],
      "source": [
        "mechanical.exit()"
      ]
    }
  ],
  "metadata": {
    "kernelspec": {
      "display_name": "Python 3",
      "language": "python",
      "name": "python3"
    },
    "language_info": {
      "codemirror_mode": {
        "name": "ipython",
        "version": 3
      },
      "file_extension": ".py",
      "mimetype": "text/x-python",
      "name": "python",
      "nbconvert_exporter": "python",
      "pygments_lexer": "ipython3",
      "version": "3.11.13"
    }
  },
  "nbformat": 4,
  "nbformat_minor": 0
}