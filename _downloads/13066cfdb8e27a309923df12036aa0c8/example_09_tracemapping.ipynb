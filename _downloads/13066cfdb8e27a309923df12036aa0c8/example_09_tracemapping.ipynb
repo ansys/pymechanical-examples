{
  "cells": [
    {
      "cell_type": "markdown",
      "metadata": {},
      "source": [
        "\n# Trace Mapping Example\n\nUsing the provided file, this example demonstrates how to\nimport trace map data into a static structural analysis of\na new Mechanical session and execute a sequence of\nPython scripting commands to mesh the model and export an image.\n"
      ]
    },
    {
      "cell_type": "markdown",
      "metadata": {},
      "source": [
        "## Import necessary libraries\n\n"
      ]
    },
    {
      "cell_type": "code",
      "execution_count": null,
      "metadata": {
        "collapsed": false
      },
      "outputs": [],
      "source": [
        "import os\n\nfrom ansys.mechanical.core import launch_mechanical\nfrom ansys.mechanical.core.examples import download_file\nfrom matplotlib import image as mpimg\nfrom matplotlib import pyplot as plt"
      ]
    },
    {
      "cell_type": "markdown",
      "metadata": {},
      "source": [
        "## Launch mechanical\nLaunch a new Mechanical session in batch, setting ``cleanup_on_exit`` to\n``False``. To close this Mechanical session when finished, this example\nmust call  the ``mechanical.exit()`` method.\n\n"
      ]
    },
    {
      "cell_type": "code",
      "execution_count": null,
      "metadata": {
        "collapsed": false
      },
      "outputs": [],
      "source": [
        "mechanical = launch_mechanical(batch=True, cleanup_on_exit=False)\nprint(mechanical)"
      ]
    },
    {
      "cell_type": "markdown",
      "metadata": {},
      "source": [
        "## Download the required files\nDownload files and print path\n\n"
      ]
    },
    {
      "cell_type": "code",
      "execution_count": null,
      "metadata": {
        "collapsed": false
      },
      "outputs": [],
      "source": [
        "all_input_files = {\n    \"geometry_file_name\": \"example_09_pcb.agdb\",\n    \"def_file\": \"example_09_edb.def\",\n    \"copper_alloy_material_file\": \"example_09_mat_copper_alloy.xml\",\n    \"fr4_material_file\": \"example_09_mat_fr4.xml\",\n}\n\nproject_directory = mechanical.project_directory\nprint(f\"project directory = {project_directory}\")\n\nfor file_type, file_name in all_input_files.items():\n    file_path = download_file(file_name, \"pymechanical\", \"00_basic\")\n\n    print(f\"Downloaded the {file_type} to: {file_path}\")\n\n    # Upload the file to the project directory.\n    mechanical.upload(file_name=file_path, file_location_destination=project_directory)\n\n    # Build the path relative to project directory.\n    base_name = os.path.basename(file_path)\n    combined_path = os.path.join(project_directory, base_name)\n    part_file_path = combined_path.replace(\"\\\\\", \"\\\\\\\\\")\n    mechanical.run_python_script(f\"{file_type} = '{part_file_path}'\")\n    result = mechanical.run_python_script(f\"{file_type}\")\n    print(f\"path of {file_type} on server: {result}\")\n\n\npng_image_name = \"myplot.png\"\nmechanical.run_python_script(f\"image_name='{png_image_name}'\")"
      ]
    },
    {
      "cell_type": "markdown",
      "metadata": {},
      "source": [
        "## Run the script\nRun the Mechanical script to attach the geometry and set up and solve the\nanalysis.\n\n"
      ]
    },
    {
      "cell_type": "code",
      "execution_count": null,
      "metadata": {
        "collapsed": false
      },
      "outputs": [],
      "source": [
        "output = mechanical.run_python_script(\n    \"\"\"\nimport os\n\n\n# Imports a geometry file into the active model.\n\ngeometry_import = Model.GeometryImportGroup.AddGeometryImport()\ngeometry_import_format = (\n    Ansys.Mechanical.DataModel.Enums.GeometryImportPreference.Format.Automatic\n)\ngeometry_import_preferences = Ansys.ACT.Mechanical.Utilities.GeometryImportPreferences()\ngeometry_import_preferences.ProcessNamedSelections = True\ngeometry_import_preferences.NamedSelectionKey = \"NS\"\ngeometry_import.Import(\n    geometry_file_name, geometry_import_format, geometry_import_preferences\n)\n\n\nprint(\"geometry import : Done \")\n\n# Insert a Static Structural Analysis\n\nanalysis = Model.AddStaticStructuralAnalysis()\nprint(analysis)\n\nExtAPI.DataModel.Project.UnitSystem = UserUnitSystemType.StandardNMM\n\n# Import Materials\n\nmaterials = ExtAPI.DataModel.Project.Model.Materials\nmaterials.Import(copper_alloy_material_file)\nmaterials.Import(fr4_material_file)\n\n\n# create lists of body ids to create named selections later\n\nboard_bodyids = []\ncomponent_bodyids = []\ngeo = ExtAPI.DataModel.GeoData\nmesh = ExtAPI.DataModel.Project.Model.Mesh\nfor asm in geo.Assemblies:\n    for part in asm.Parts:\n        for body in part.Bodies:\n            if body.Name[:9] != \"Component\":\n                board_bodyids.append(body.Id)\n            else:\n                component_bodyids.append(body.Id)\n\n# Assign  Materials based on Body Names\n\nparts = ExtAPI.DataModel.Project.Model.Geometry.Children  # list of parts\nfor part in parts:\n    for body in part.Children:\n        body.Material = \"Copper Alloy\" if body.Name[:9] == \"Component\" else \"FR-4\"\n\n\n# Function to create named selection from list of body ids\n\ndef create_named_selection_from_id_list(ns_name, list_of_body_ids):\n\n    selection_manager = ExtAPI.SelectionManager\n    selection = ExtAPI.SelectionManager.CreateSelectionInfo(\n        SelectionTypeEnum.GeometryEntities\n    )\n    selection.Ids = list_of_body_ids\n    selection_manager.NewSelection(selection)\n\n    model = ExtAPI.DataModel.Project.Model\n    named_sel = model.AddNamedSelection()\n    named_sel.Name = ns_name\n    named_sel.Location = selection\n    selection_manager.ClearSelection()\n\n\ncreate_named_selection_from_id_list(\"board_layers\", board_bodyids)\ncreate_named_selection_from_id_list(\"components\", component_bodyids)\n\n# make a selection to be used with mesh methods\n\nselection_manager = ExtAPI.SelectionManager\nselection = ExtAPI.SelectionManager.CreateSelectionInfo(\n    SelectionTypeEnum.GeometryEntities\n)\nselection.Ids = board_bodyids\nselection_manager.NewSelection(selection)\n\nmesh = ExtAPI.DataModel.Project.Model.Mesh\n\nmesh_method = mesh.AddAutomaticMethod()\nmesh_method.Location = selection\nmesh_method.Method = MethodType.Sweep\nmesh_method.ElementOrder = ElementOrder.Linear\nmesh_method.SweepNumberDivisions = 1\n\nmesh_sizing = mesh.AddSizing()\nmesh_sizing.ElementSize = Quantity(\"0.25 [mm]\")\nmesh.GenerateMesh()\n\n\n# Defining External Data Object  for Importing Trace\n\nexternal_data_files = Ansys.Mechanical.ExternalData.ExternalDataFileCollection()\nexternal_data_files.SaveFilesWithProject = True\nexternal_data_file = Ansys.Mechanical.ExternalData.ExternalDataFile()\nexternal_data_files.Add(external_data_file)  # Single File\nexternal_data_file.Identifier = \"edb\"\nexternal_data_file.Description = \"\"\nexternal_data_file.IsMainFile = False\nexternal_data_file.FilePath = def_file\nexternal_data_file.ImportSettings = (\n    Ansys.Mechanical.ExternalData.ImportSettingsFactory.GetSettingsForFormat(\n        Ansys.Mechanical.DataModel.MechanicalEnums.ExternalData.ImportFormat.ECAD\n    )\n)\nimport_settings = external_data_file.ImportSettings\nimport_settings.UseDummyNetData = False\nimported_trace_group = Model.Materials.AddImportedTraceExternalData()\nimported_trace_group.ImportExternalDataFiles(external_data_files)\n\nallImpTraces = ExtAPI.DataModel.GetObjectsByType(\n    Ansys.Mechanical.DataModel.Enums.DataModelObjectCategory.ImportedTrace\n)\n\nimp_trace = [\n    x for x in allImpTraces if x.Parent.ObjectId == imported_trace_group.ObjectId\n][0]\nimp_trace.Activate()\n# imp_trace.InternalObject.GeometryDefineBy = 1\n\nNSall = ExtAPI.DataModel.Project.Model.NamedSelections.GetChildren[\n    Ansys.ACT.Automation.Mechanical.NamedSelection\n](True)\nns_object = [i for i in NSall if i.Name == \"board_layers\"][0]\nimp_trace.Location = ns_object\nimp_trace.PropertyByName(\"PROPID_ExternalData\").InternalValue = 1\n\n\nlayers = imp_trace.Layers\nnum_layers = layers.Count\nfor layer in layers:\n    layer[\"Trace Material\"] = \"Copper Alloy\"\nvias = imp_trace.Vias\nnum_vias = vias.Count\nfor via in vias:\n    via[\"Plating Material\"] = \"Copper Alloy\"\nimp_trace.Import()\n\n\n# Exporting trace map snapshot to a png file\n\nGraphics.Camera.SetFit()\nset2d = Ansys.Mechanical.Graphics.GraphicsImageExportSettings()\nset2d.CurrentGraphicsDisplay = False\nmechdir = ExtAPI.DataModel.AnalysisList[0].WorkingDir\npng_file_path = os.path.join(mechdir, image_name)\nGraphics.ExportImage(png_file_path, GraphicsImageExportFormat.PNG, set2d)\n\n\"\"\"\n)"
      ]
    },
    {
      "cell_type": "markdown",
      "metadata": {},
      "source": [
        "## Initialize the variable needed for the image directory\nSet the ``image_dir`` for later use.\nMake the variable compatible for Windows, Linux, and Docker containers.\n\n"
      ]
    },
    {
      "cell_type": "code",
      "execution_count": null,
      "metadata": {
        "collapsed": false
      },
      "outputs": [],
      "source": [
        "mechanical.run_python_script(f\"image_dir=ExtAPI.DataModel.AnalysisList[0].WorkingDir\")\nresult_image_dir_server = mechanical.run_python_script(f\"image_dir\")\nprint(f\"Images are stored on the server at: {result_image_dir_server}\")"
      ]
    },
    {
      "cell_type": "markdown",
      "metadata": {},
      "source": [
        "## Download the image and plot\nDownload one image file from the server to the current working directory and plot\nusing matplotlib\n\n"
      ]
    },
    {
      "cell_type": "code",
      "execution_count": null,
      "metadata": {
        "collapsed": false
      },
      "outputs": [],
      "source": [
        "def get_image_path(image_name):\n    return os.path.join(result_image_dir_server, image_name)\n\n\ndef display_image(path):\n    print(f\"Printing {path} using matplotlib\")\n    image1 = mpimg.imread(path)\n    plt.figure(figsize=(15, 15))\n    plt.axis(\"off\")\n    plt.imshow(image1)\n    plt.show()\n\n\nimage_path_server = get_image_path(png_image_name)\n\nif image_path_server != \"\":\n    current_working_directory = os.getcwd()\n\n    local_file_path_list = mechanical.download(\n        image_path_server, target_dir=current_working_directory\n    )\n    image_local_path = local_file_path_list[0]\n    print(f\"Local image path : {image_local_path}\")\n\n    display_image(image_local_path)"
      ]
    },
    {
      "cell_type": "markdown",
      "metadata": {},
      "source": [
        "## Close mechanical\nClose the mechanical instance.\n\n"
      ]
    },
    {
      "cell_type": "code",
      "execution_count": null,
      "metadata": {
        "collapsed": false
      },
      "outputs": [],
      "source": [
        "print(\"Closing mechanical...\")\nmechanical.exit()\nprint(\"Mechanical closed!\")"
      ]
    }
  ],
  "metadata": {
    "kernelspec": {
      "display_name": "Python 3",
      "language": "python",
      "name": "python3"
    },
    "language_info": {
      "codemirror_mode": {
        "name": "ipython",
        "version": 3
      },
      "file_extension": ".py",
      "mimetype": "text/x-python",
      "name": "python",
      "nbconvert_exporter": "python",
      "pygments_lexer": "ipython3",
      "version": "3.11.13"
    }
  },
  "nbformat": 4,
  "nbformat_minor": 0
}