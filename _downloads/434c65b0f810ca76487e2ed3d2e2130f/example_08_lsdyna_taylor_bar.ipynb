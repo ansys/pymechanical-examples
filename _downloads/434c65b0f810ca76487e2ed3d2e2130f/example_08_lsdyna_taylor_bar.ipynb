{
  "cells": [
    {
      "cell_type": "markdown",
      "metadata": {},
      "source": [
        "\n# LS-Dyna analysis\n\nUsing supplied files, this example shows how to insert an LS-Dyna analysis\ninto a new Mechanical session and execute a sequence of Python scripting\ncommands that define and solve the analysis. Deformation results are then reported\nand plastic strain (EPS) animation is exported in the project directory.\n"
      ]
    },
    {
      "cell_type": "markdown",
      "metadata": {},
      "source": [
        "## Download required files\nDownload the required files. Print the file path for the geometry file.\n\n"
      ]
    },
    {
      "cell_type": "code",
      "execution_count": null,
      "metadata": {
        "collapsed": false
      },
      "outputs": [],
      "source": [
        "import os\n\nfrom PIL import Image\nfrom ansys.mechanical.core import launch_mechanical\nfrom ansys.mechanical.core.examples import download_file\nfrom matplotlib import image as mpimg\nfrom matplotlib import pyplot as plt\nfrom matplotlib.animation import FuncAnimation\n\ngeometry_path = download_file(\"example_08_Taylor_Bar.agdb\", \"pymechanical\", \"00_basic\")\nprint(f\"Downloaded the geometry file to: {geometry_path}\")"
      ]
    },
    {
      "cell_type": "markdown",
      "metadata": {},
      "source": [
        "## Launch mechanical\nLaunch a new Mechanical session in batch, setting ``cleanup_on_exit`` to\n``False``. To close this Mechanical session when finished, this example\nmust call  the ``mechanical.exit()`` method.\n\n"
      ]
    },
    {
      "cell_type": "code",
      "execution_count": null,
      "metadata": {
        "collapsed": false
      },
      "outputs": [],
      "source": [
        "mechanical = launch_mechanical(batch=True, cleanup_on_exit=False)\nprint(mechanical)"
      ]
    },
    {
      "cell_type": "markdown",
      "metadata": {},
      "source": [
        "## Initialize variable for workflow\nSet the ``part_file_path`` variable on the server for later use.\nMake this variable compatible for Windows, Linux, and Docker containers.\n\n"
      ]
    },
    {
      "cell_type": "code",
      "execution_count": null,
      "metadata": {
        "collapsed": false
      },
      "outputs": [],
      "source": [
        "project_directory = mechanical.project_directory\nprint(f\"project directory = {project_directory}\")\nproject_directory = project_directory.replace(\"\\\\\", \"\\\\\\\\\")\nmechanical.run_python_script(f\"project_directory='{project_directory}'\")\n\n# Upload the file to the project directory.\nmechanical.upload(file_name=geometry_path, file_location_destination=project_directory)\n\n# Build the path relative to project directory.\nbase_name = os.path.basename(geometry_path)\ncombined_path = os.path.join(project_directory, base_name)\npart_file_path = combined_path.replace(\"\\\\\", \"\\\\\\\\\")\nmechanical.run_python_script(f\"part_file_path='{part_file_path}'\")"
      ]
    },
    {
      "cell_type": "markdown",
      "metadata": {},
      "source": [
        "## Download required material files\nDownload the required file. Print the file path for the material file.\n\n"
      ]
    },
    {
      "cell_type": "code",
      "execution_count": null,
      "metadata": {
        "collapsed": false
      },
      "outputs": [],
      "source": [
        "mat_st_path = download_file(\"example_08_Taylor_Bar_Mat.xml\", \"pymechanical\", \"00_basic\")\nprint(f\"Downloaded the material file to: {mat_st_path}\")\n\n# Upload the file to the project directory.\nmechanical.upload(file_name=mat_st_path, file_location_destination=project_directory)\n\n# Build the path relative to project directory.\nbase_name = os.path.basename(mat_st_path)\ncombined_path = os.path.join(project_directory, base_name)\nmat_file_path = combined_path.replace(\"\\\\\", \"\\\\\\\\\")\nmechanical.run_python_script(f\"mat_file_path='{mat_file_path}'\")\n\n# Verify the path\nresult = mechanical.run_python_script(\"part_file_path\")\nprint(f\"part_file_path on server: {result}\")"
      ]
    },
    {
      "cell_type": "markdown",
      "metadata": {},
      "source": [
        "## Run the script\nRun the Mechanical script to attach the geometry and set up and solve the\nanalysis.\n\n"
      ]
    },
    {
      "cell_type": "code",
      "execution_count": null,
      "metadata": {
        "collapsed": false
      },
      "outputs": [],
      "source": [
        "mech_act_code = \"\"\"\nimport os\nimport json\n\n# Import Taylor bar geometry\n\ngeometry_import_group = Model.GeometryImportGroup\ngeometry_import = geometry_import_group.AddGeometryImport()\ngeometry_import_format = Ansys.Mechanical.DataModel.Enums.GeometryImportPreference.Format.Automatic\ngeometry_import.Import(part_file_path, geometry_import_format, None)\n\nModel.AddLSDynaAnalysis()\nanalysis = Model.Analyses[0]\n\nExtAPI.Application.ActiveUnitSystem = MechanicalUnitSystem.StandardNMMton\nExtAPI.Application.ActiveAngleUnit = AngleUnitType.Radian\n\n\n\n# Assign the material\n\nMAT = ExtAPI.DataModel.Project.Model.Materials\nMAT.Import(mat_file_path)\nExtAPI.DataModel.Project.Model.Geometry.Children[0].Children[0].Material = \"Bullet\"\n\n# Add Coordinate system\n\ncs = Model.CoordinateSystems\nlcs = cs.AddCoordinateSystem()\nlcs.Origin = [10.0, 1.5, -10.0]\nlcs.PrimaryAxis = CoordinateSystemAxisType.PositiveZAxis\nlcs.PrimaryAxisDefineBy = CoordinateSystemAlignmentType.GlobalY\nlcs.OriginDefineBy = CoordinateSystemAlignmentType.Fixed\n\nsolver  = analysis.Solver\n\nsolver.Properties['Step Controls/Endtime'].Value = 3.0E-5\n\nanalysis.Activate()\n\n# Add Rigid Wall\n\nrigid_wall = analysis.CreateLoadObject(\"Rigid Wall\", \"LSDYNA\")\nrigid_wall.Properties[\"Coordinate System\"].Value = lcs.ObjectId\nExtAPI.DataModel.Tree.Refresh()\n\n# Adding initial velocity\n\nic = ExtAPI.DataModel.GetObjectsByName(\"Initial Conditions\")[0]\nvel = ic.InsertVelocity()\nselection = ExtAPI.SelectionManager.CreateSelectionInfo(SelectionTypeEnum.GeometryEntities)\nselection.Ids = [ExtAPI.DataModel.GeoData.Assemblies[0].Parts[0].Bodies[0].Id]\nvel.Location = selection\nvel.DefineBy = LoadDefineBy.Components\nvel.YComponent = Quantity(-280000, ExtAPI.DataModel.CurrentUnitFromQuantityName(\"Velocity\"))\n\n# By default quadratic element order in Mechanical - LSDyna supports only Linear\n\nmesh = ExtAPI.DataModel.GetObjectsByName(\"Mesh\")[0]\nmesh.ElementOrder = ElementOrder.Linear\nmesh.ElementSize = Quantity(0.5, \"mm\")\n\n# Solve\n\nanalysis.Solution.Solve()\n\n# Post-processing\n\neps = analysis.Solution.AddUserDefinedResult()\neps.Expression = \"EPS\"\neps.EvaluateAllResults()\neps_max = eps.Maximum\neps_min = eps.Minimum\ntotal_deformation = analysis.Solution.AddTotalDeformation()\ntotal_deformation.EvaluateAllResults()\n\n# Set Camera\n\nGraphics.Camera.FocalPoint = Point([9.0521184381880495,\n                                    2.9680547361873595,\n                                    -11.52925245328758], 'mm')\n\nGraphics.Camera.ViewVector = Vector3D(0.5358281613965048,\n                                      -0.45245539014067604,\n                                      0.71286204933850261)\nGraphics.Camera.UpVector = Vector3D(-0.59927496479653264,\n                                     0.39095266724498329,\n                                     0.69858823962485084)\n\nGraphics.Camera.SceneHeight = Quantity(14.66592829617538, 'mm')\nGraphics.Camera.SceneWidth = Quantity(8.4673776497126063, 'mm')\n\n# Set Scale factor\n\ntrue_scale = MechanicalEnums.Graphics.DeformationScaling.True\nGraphics.ViewOptions.ResultPreference.DeformationScaling = true_scale\nGraphics.ViewOptions.ResultPreference.DeformationScaleMultiplier = 1\n\n# Export an animation\n\nmechdir = ExtAPI.DataModel.AnalysisList[0].WorkingDir\neps.Activate()\nanimation_export_format = GraphicsAnimationExportFormat.GIF\nsettings_720p = Ansys.Mechanical.Graphics.AnimationExportSettings()\nsettings_720p.Width = 1280\nsettings_720p.Height = 720\nanim_file_path = os.path.join(mechdir, \"taylor_bar.gif\")\neps.ExportAnimation(\n    anim_file_path, animation_export_format, settings_720p\n)\n\n# Set the isometric view and zoom to fit\n\nsettings_720p = Ansys.Mechanical.Graphics.GraphicsImageExportSettings()\nsettings_720p.Resolution = (GraphicsResolutionType.EnhancedResolution)\nsettings_720p.Background = GraphicsBackgroundType.White\nsettings_720p.Width = 1280\nsettings_720p.Height = 720\nsettings_720p.CurrentGraphicsDisplay = False\ntotal_deformation.Activate()\nimage_path = os.path.join(mechdir, \"totaldeformation.png\")\nGraphics.ExportImage(image_path, GraphicsImageExportFormat.PNG, settings_720p)\n\ndir_deformation_details = {\n\"Minimum\": str(eps_max),\n\"Maximum\": str(eps_min)\n}\n\njson.dumps(dir_deformation_details)\n\"\"\"\noutput = mechanical.run_python_script(mech_act_code)\nprint(output)\n\n# image_directory_modified = project_directory.replace(\"\\\\\", \"\\\\\\\\\")\nmechanical.run_python_script(f\"image_dir=ExtAPI.DataModel.AnalysisList[0].WorkingDir\")\n\n\n# Verify the path for image directory.\nresult_image_dir_server = mechanical.run_python_script(f\"image_dir\")\nprint(f\"Images are stored on the server at: {result_image_dir_server}\")"
      ]
    },
    {
      "cell_type": "markdown",
      "metadata": {},
      "source": [
        "## Download output file from solve and print contents\nDownload the ``solve.out`` file from the server to the current working\ndirectory and print the contents. Remove the ``solve.out`` file.\n\n"
      ]
    },
    {
      "cell_type": "code",
      "execution_count": null,
      "metadata": {
        "collapsed": false
      },
      "outputs": [],
      "source": [
        "def get_solve_out_path(mechanical):\n    \"\"\"Get the solve out path and return.\"\"\"\n    solve_out_path = \"\"\n    for file_path in mechanical.list_files():\n        if file_path.find(\"solve.out\") != -1:\n            solve_out_path = file_path\n            break\n\n    return solve_out_path\n\n\ndef write_file_contents_to_console(path):\n    \"\"\"Write file contents to console.\"\"\"\n    with open(path, \"rt\") as file:\n        for line in file:\n            print(line, end=\"\")\n\n\nprint(\"Getting solve out path\")\nsolve_out_path = get_solve_out_path(mechanical)\nprint(f\"Solve out path (on remote machine): {solve_out_path}\")\n\n\nif solve_out_path != \"\":\n    current_working_directory = os.getcwd()\n\n    print(f\"Performing download request...\")\n    mechanical.download(solve_out_path, target_dir=current_working_directory)\n    solve_out_local_path = os.path.join(current_working_directory, \"solve.out\")\n    print(f\"File downloaded locally at {solve_out_local_path}\")\n\n    write_file_contents_to_console(solve_out_local_path)\n    print(\"Printed output to console\")\n    os.remove(solve_out_local_path)"
      ]
    },
    {
      "cell_type": "markdown",
      "metadata": {},
      "source": [
        "## Get image and display\n\n"
      ]
    },
    {
      "cell_type": "code",
      "execution_count": null,
      "metadata": {
        "collapsed": false
      },
      "outputs": [],
      "source": [
        "def get_image_path(image_name):\n    return os.path.join(result_image_dir_server, image_name)\n\n\ndef display_image(path):\n    print(f\"Printing {path} using matplotlib\")\n    image1 = mpimg.imread(path)\n    plt.figure(figsize=(15, 15))\n    plt.axis(\"off\")\n    plt.imshow(image1)\n    plt.show()\n\n\nimage_name = \"totaldeformation.png\"\nimage_path_server = get_image_path(image_name)\n\nif image_path_server != \"\":\n    current_working_directory = os.getcwd()\n\n    local_file_path_list = mechanical.download(\n        image_path_server, target_dir=current_working_directory\n    )\n    image_local_path = local_file_path_list[0]\n    print(f\"Local image path : {image_local_path}\")\n\n    display_image(image_local_path)"
      ]
    },
    {
      "cell_type": "markdown",
      "metadata": {},
      "source": [
        "## Download gif and display\n\n"
      ]
    },
    {
      "cell_type": "code",
      "execution_count": null,
      "metadata": {
        "collapsed": false
      },
      "outputs": [],
      "source": [
        "animation_name = \"taylor_bar.gif\"\nanimation_server = get_image_path(animation_name)\n\n\ndef update(frame):\n    gif.seek(frame)\n    img.set_array(gif.convert(\"RGBA\"))\n    return [img]\n\n\nif image_path_server != \"\":\n    current_working_directory = os.getcwd()\n\n    local_file_path_list = mechanical.download(\n        animation_server, target_dir=current_working_directory\n    )\n    image_local_path = local_file_path_list[0]\n    print(f\"Local image path : {image_local_path}\")\n    gif = Image.open(image_local_path)\n    fig, ax = plt.subplots(figsize=(16, 9))\n    ax.axis(\"off\")\n    img = ax.imshow(gif.convert(\"RGBA\"))\n    ani = FuncAnimation(\n        fig, update, frames=range(gif.n_frames), interval=100, repeat=True, blit=True\n    )\n    plt.show()"
      ]
    },
    {
      "cell_type": "markdown",
      "metadata": {},
      "source": [
        "## Close mechanical\nClose the mechanical instance.\n\n"
      ]
    },
    {
      "cell_type": "code",
      "execution_count": null,
      "metadata": {
        "collapsed": false
      },
      "outputs": [],
      "source": [
        "print(\"Closing mechanical...\")\nmechanical.exit()\nprint(\"Mechanical closed!\")"
      ]
    }
  ],
  "metadata": {
    "kernelspec": {
      "display_name": "Python 3",
      "language": "python",
      "name": "python3"
    },
    "language_info": {
      "codemirror_mode": {
        "name": "ipython",
        "version": 3
      },
      "file_extension": ".py",
      "mimetype": "text/x-python",
      "name": "python",
      "nbconvert_exporter": "python",
      "pygments_lexer": "ipython3",
      "version": "3.11.13"
    }
  },
  "nbformat": 4,
  "nbformat_minor": 0
}